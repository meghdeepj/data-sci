{
 "cells": [
  {
   "cell_type": "code",
   "execution_count": 1,
   "metadata": {
    "_cell_guid": "b1076dfc-b9ad-4769-8c92-a6c4dae69d19",
    "_uuid": "8f2839f25d086af736a60e9eeb907d3b93b6e0e5"
   },
   "outputs": [],
   "source": [
    "# This Python 3 environment comes with many helpful analytics libraries installed\n",
    "# It is defined by the kaggle/python docker image: https://github.com/kaggle/docker-python\n",
    "# For example, here's several helpful packages to load in \n",
    "\n",
    "import numpy as np # linear algebra\n",
    "import pandas as pd # data processing, CSV file I/O (e.g. pd.read_csv)\n",
    "\n",
    "# Input data files are available in the \"../input/\" directory.\n",
    "# For example, running this (by clicking run or pressing Shift+Enter) will list all files under the input directory\n",
    "\n",
    "import os\n",
    "for dirname, _, filenames in os.walk('/kaggle/input'):\n",
    "    for filename in filenames:\n",
    "        print(os.path.join(dirname, filename))\n",
    "\n",
    "# Any results you write to the current directory are saved as output."
   ]
  },
  {
   "cell_type": "code",
   "execution_count": 2,
   "metadata": {
    "_cell_guid": "79c7e3d0-c299-4dcb-8224-4455121ee9b0",
    "_uuid": "d629ff2d2480ee46fbb7e2d37f6b5fab8052498a"
   },
   "outputs": [],
   "source": [
    "import matplotlib.pyplot as plt\n",
    "import torch as T\n",
    "import torch.nn as nn\n",
    "import torch.optim as optim\n",
    "import torch.nn.functional as F\n",
    "from sklearn.model_selection import train_test_split"
   ]
  },
  {
   "cell_type": "code",
   "execution_count": 3,
   "metadata": {},
   "outputs": [],
   "source": [
    "train_data_raw=pd.read_csv('./data/mnist_train.csv').astype('float32')\n",
    "test_data_raw=pd.read_csv('./data/mnist_test.csv').astype('float32')"
   ]
  },
  {
   "cell_type": "code",
   "execution_count": 4,
   "metadata": {},
   "outputs": [],
   "source": [
    "train_label=train_data_raw['label'].values\n",
    "train_img=train_data_raw.drop('label', axis=1)"
   ]
  },
  {
   "cell_type": "code",
   "execution_count": 5,
   "metadata": {},
   "outputs": [
    {
     "name": "stdout",
     "output_type": "stream",
     "text": [
      "no missing data\n"
     ]
    }
   ],
   "source": [
    "null_bool=train_img.isnull().to_numpy()\n",
    "a=np.ones((784,1))\n",
    "nullz=np.sum(np.dot(null_bool,a))\n",
    "if nullz:\n",
    "    print('there is missing data')\n",
    "else:\n",
    "    print('no missing data')"
   ]
  },
  {
   "cell_type": "code",
   "execution_count": 6,
   "metadata": {},
   "outputs": [],
   "source": [
    "train_img=train_img.values/255\n",
    "train_img=train_img.reshape(-1,1,28,28)\n",
    "test_img=test_data_raw.values/255\n",
    "test_img=test_img.reshape(-1,1,28,28)"
   ]
  },
  {
   "cell_type": "code",
   "execution_count": 7,
   "metadata": {},
   "outputs": [
    {
     "data": {
      "text/plain": [
       "(42000, 1, 28, 28)"
      ]
     },
     "execution_count": 7,
     "metadata": {},
     "output_type": "execute_result"
    }
   ],
   "source": [
    "train_img.shape"
   ]
  },
  {
   "cell_type": "code",
   "execution_count": 8,
   "metadata": {},
   "outputs": [],
   "source": [
    "train_img, val_img, train_label, val_label = train_test_split(train_img, train_label, test_size=0.05, random_state=42)"
   ]
  },
  {
   "cell_type": "code",
   "execution_count": 9,
   "metadata": {},
   "outputs": [
    {
     "name": "stdout",
     "output_type": "stream",
     "text": [
      "torch.Size([8400, 1, 28, 28]) torch.Size([8400]) torch.Size([33600, 1, 28, 28]) torch.Size([33600])\n"
     ]
    }
   ],
   "source": [
    "train_img, train_label=T.from_numpy(train_img), T.from_numpy(train_label).type(T.LongTensor)\n",
    "val_img, val_label=T.from_numpy(val_img), T.from_numpy(val_label).type(T.LongTensor)\n",
    "test_img=T.from_numpy(test_img)\n",
    "\n",
    "print(val_img.size(), val_label.size(), train_img.shape, train_label.shape)"
   ]
  },
  {
   "cell_type": "code",
   "execution_count": 10,
   "metadata": {},
   "outputs": [
    {
     "data": {
      "text/plain": [
       "<Figure size 432x216 with 0 Axes>"
      ]
     },
     "metadata": {},
     "output_type": "display_data"
    },
    {
     "data": {
      "image/png": "[encoded data removed]",
      "text/plain": [
       "<Figure size 432x288 with 6 Axes>"
      ]
     },
     "metadata": {
      "needs_background": "light"
     },
     "output_type": "display_data"
    }
   ],
   "source": [
    "fig = plt.figure(figsize=(6,3))\n",
    "fig, axs = plt.subplots(2,3)\n",
    "fig.suptitle('Vertically stacked subplots')\n",
    "for i in range(2):\n",
    "    for j in range(3):\n",
    "        axs[i,j].imshow(train_img[(i*3+j)*8,:][0], cmap='gray')\n",
    "plt.show()"
   ]
  },
  {
   "cell_type": "markdown",
   "metadata": {},
   "source": [
    "class DopeNet(nn.Module):\n",
    "    \n",
    "    def __init__(self):\n",
    "        super(DopeNet, self).__init__()\n",
    "        \n",
    "        self.fc1= nn.Linear(784, 128)\n",
    "        self.dropout= nn.Dropout(0.2)\n",
    "        self.fc2= nn.Linear(128,96)\n",
    "        self.fc3= nn.Linear(96, 10)\n",
    "        \n",
    "    \n",
    "    def forward(self, input_x):\n",
    "        x = F.relu(self.fc1(input_x))\n",
    "        x = F.relu(self.dropout(self.fc2(x)))\n",
    "        x = F.relu(self.fc3(x))\n",
    "        \n",
    "        return x\n",
    "    \n",
    "model=DopeNet().to('cuda')\n",
    "print(model)"
   ]
  },
  {
   "cell_type": "code",
   "execution_count": 11,
   "metadata": {},
   "outputs": [
    {
     "name": "stdout",
     "output_type": "stream",
     "text": [
      "DopeNet(\n",
      "  (conv1): Conv2d(1, 16, kernel_size=(5, 5), stride=(1, 1), padding=(2, 2))\n",
      "  (bn1): BatchNorm2d(16, eps=1e-05, momentum=0.1, affine=True, track_running_stats=True)\n",
      "  (conv2): Conv2d(16, 32, kernel_size=(5, 5), stride=(1, 1), padding=(2, 2))\n",
      "  (bn2): BatchNorm2d(32, eps=1e-05, momentum=0.1, affine=True, track_running_stats=True)\n",
      "  (fc1): Linear(in_features=1568, out_features=128, bias=True)\n",
      "  (fc2): Linear(in_features=128, out_features=64, bias=True)\n",
      "  (fc3): Linear(in_features=64, out_features=10, bias=True)\n",
      ")\n"
     ]
    }
   ],
   "source": [
    "class DopeNet(nn.Module):\n",
    "    \n",
    "    def __init__(self):\n",
    "        super(DopeNet, self).__init__()\n",
    "        \n",
    "        self.conv1= nn.Conv2d(1, 16, 5, stride=1, padding=2)\n",
    "        self.bn1 = nn.BatchNorm2d(16)\n",
    "        self.conv2= nn.Conv2d(16, 32, 5, stride=1, padding=2)\n",
    "        self.bn2 = nn.BatchNorm2d(32)\n",
    "        self.fc1= nn.Linear(32*7*7,128)\n",
    "        self.fc2= nn.Linear(128,64)\n",
    "        self.fc3= nn.Linear(64, 10)\n",
    "        \n",
    "    \n",
    "    def forward(self, input_x):\n",
    "        x = F.max_pool2d(F.relu(self.bn1(self.conv1(input_x))),2)\n",
    "        x = F.max_pool2d(F.relu(self.bn2(self.conv2(x))),2)\n",
    "        x = x.view(-1,32*7*7)\n",
    "        x = F.relu(self.fc1(x))\n",
    "        x = F.relu(self.fc2(x))\n",
    "        x = self.fc3(x)\n",
    "        return x\n",
    "    \n",
    "model=DopeNet().to('cuda')\n",
    "print(model)"
   ]
  },
  {
   "cell_type": "code",
   "execution_count": 12,
   "metadata": {},
   "outputs": [],
   "source": [
    "###HYPERPARAMETER\n",
    "n_epoch=30\n",
    "batch_size=64\n",
    "\n",
    "train = T.utils.data.TensorDataset(train_img, train_label)\n",
    "val = T.utils.data.TensorDataset(val_img, val_label)\n"
   ]
  },
  {
   "cell_type": "code",
   "execution_count": 13,
   "metadata": {},
   "outputs": [],
   "source": [
    "#create dataloader\n",
    "train_loader= T.utils.data.DataLoader(train, batch_size=batch_size, shuffle=False)\n",
    "val_loader= T.utils.data.DataLoader(val, batch_size=batch_size, shuffle=False)\n"
   ]
  },
  {
   "cell_type": "code",
   "execution_count": 14,
   "metadata": {},
   "outputs": [],
   "source": [
    "###HYPERPARAMETER\n",
    "lr=0.01\n",
    "betas=(0.9,0.999)\n",
    "momentum=0.9\n",
    "decay_rate=0.95\n",
    "\n",
    "criterion=nn.CrossEntropyLoss()\n",
    "# optimizer=optim.Adam(model.parameters(), lr=lr, betas=betas)\n",
    "optimizer=optim.SGD(model.parameters(), lr=lr, momentum=momentum)\n",
    "# lr_sched = optim.lr_scheduler.ExponentialLR(optimizer=optimizer, gamma=decay_rate)\n",
    "lr_sched = optim.lr_scheduler.StepLR(optimizer, step_size=10, gamma=0.1)"
   ]
  },
  {
   "cell_type": "code",
   "execution_count": 15,
   "metadata": {},
   "outputs": [
    {
     "name": "stdout",
     "output_type": "stream",
     "text": [
      "Epoch 0 - Training Loss: 0.046203576028347015 | Val Loss: 0.07055878639221191 |  Val Accuracy: 97.5\n",
      "Epoch 1 - Training Loss: 0.0020592063665390015 | Val Loss: 0.005505472421646118 |  Val Accuracy: 98.25\n",
      "Epoch 2 - Training Loss: 0.0018187835812568665 | Val Loss: 0.015047162771224976 |  Val Accuracy: 98.58333333333333\n",
      "Epoch 3 - Training Loss: 0.0015431642532348633 | Val Loss: 0.008611798286437988 |  Val Accuracy: 98.6547619047619\n",
      "Epoch 4 - Training Loss: 0.001606091856956482 | Val Loss: 0.014828205108642578 |  Val Accuracy: 98.82142857142857\n",
      "Epoch 5 - Training Loss: 0.00131283700466156 | Val Loss: 0.006677210330963135 |  Val Accuracy: 98.98809523809524\n",
      "Epoch 6 - Training Loss: 0.0014777034521102905 | Val Loss: 0.005973398685455322 |  Val Accuracy: 98.85714285714286\n",
      "Epoch 7 - Training Loss: 0.0017299056053161621 | Val Loss: 0.008519887924194336 |  Val Accuracy: 98.97619047619048\n",
      "Epoch 8 - Training Loss: 0.0013874173164367676 | Val Loss: 0.0029175877571105957 |  Val Accuracy: 98.98809523809524\n",
      "Epoch 9 - Training Loss: 0.0015223324298858643 | Val Loss: 0.0024251341819763184 |  Val Accuracy: 99.10714285714286\n",
      "Epoch 10 - Training Loss: 0.0011098980903625488 | Val Loss: 0.008157789707183838 |  Val Accuracy: 99.0952380952381\n",
      "Epoch 11 - Training Loss: 0.001307070255279541 | Val Loss: 0.0065312981605529785 |  Val Accuracy: 99.07142857142857\n",
      "Epoch 12 - Training Loss: 0.0012696683406829834 | Val Loss: 0.01023954153060913 |  Val Accuracy: 99.08333333333333\n",
      "Epoch 13 - Training Loss: 0.0012739896774291992 | Val Loss: 0.007841169834136963 |  Val Accuracy: 99.07142857142857\n",
      "Epoch 14 - Training Loss: 0.0012111961841583252 | Val Loss: 0.011120319366455078 |  Val Accuracy: 99.08333333333333\n",
      "Epoch 15 - Training Loss: 0.0011750608682632446 | Val Loss: 0.008775830268859863 |  Val Accuracy: 99.07142857142857\n",
      "Epoch 16 - Training Loss: 0.0010937005281448364 | Val Loss: 0.0116194486618042 |  Val Accuracy: 99.08333333333333\n",
      "Epoch 17 - Training Loss: 0.0010818690061569214 | Val Loss: 0.008941054344177246 |  Val Accuracy: 99.08333333333333\n",
      "Epoch 18 - Training Loss: 0.0010200440883636475 | Val Loss: 0.011514902114868164 |  Val Accuracy: 99.08333333333333\n",
      "Epoch 19 - Training Loss: 0.001041218638420105 | Val Loss: 0.009055256843566895 |  Val Accuracy: 99.0952380952381\n",
      "Epoch 20 - Training Loss: 0.0008687674999237061 | Val Loss: 0.008945584297180176 |  Val Accuracy: 99.0952380952381\n",
      "Epoch 21 - Training Loss: 0.0008305609226226807 | Val Loss: 0.009196281433105469 |  Val Accuracy: 99.10714285714286\n",
      "Epoch 22 - Training Loss: 0.0008070766925811768 | Val Loss: 0.00921773910522461 |  Val Accuracy: 99.10714285714286\n",
      "Epoch 23 - Training Loss: 0.0007924586534500122 | Val Loss: 0.009277641773223877 |  Val Accuracy: 99.0952380952381\n",
      "Epoch 24 - Training Loss: 0.0007763057947158813 | Val Loss: 0.009199678897857666 |  Val Accuracy: 99.13095238095238\n",
      "Epoch 25 - Training Loss: 0.000770077109336853 | Val Loss: 0.00921863317489624 |  Val Accuracy: 99.10714285714286\n",
      "Epoch 26 - Training Loss: 0.0007559359073638916 | Val Loss: 0.009105265140533447 |  Val Accuracy: 99.11904761904762\n",
      "Epoch 27 - Training Loss: 0.0007516145706176758 | Val Loss: 0.00912010669708252 |  Val Accuracy: 99.10714285714286\n",
      "Epoch 28 - Training Loss: 0.0007393956184387207 | Val Loss: 0.008996844291687012 |  Val Accuracy: 99.11904761904762\n",
      "Epoch 29 - Training Loss: 0.0007371455430984497 | Val Loss: 0.009001612663269043 |  Val Accuracy: 99.10714285714286\n"
     ]
    }
   ],
   "source": [
    "#train loop\n",
    "count=0\n",
    "loss_list=[]\n",
    "val_list=[]\n",
    "iteration=[]\n",
    "\n",
    "for i in range(n_epoch):\n",
    "    model.train()\n",
    "    for j, (img, label) in enumerate(train_loader):\n",
    "        img = img.to('cuda')\n",
    "        label = label.to('cuda')\n",
    "        optimizer.zero_grad()\n",
    "        output=model(img)\n",
    "        loss=criterion(output,label)\n",
    "        loss.backward()\n",
    "        optimizer.step()\n",
    "        count+=1    \n",
    "        \n",
    "        if count%50 == 0:\n",
    "            correct=0\n",
    "            total=0\n",
    "            model.eval()\n",
    "            for images, labels in val_loader:\n",
    "                with T.no_grad():\n",
    "                    images=images.to('cuda')\n",
    "                    labels=labels.to('cuda')\n",
    "                    outputs=model(images)\n",
    "                    val_loss=criterion(outputs,labels)\n",
    "                    pred=T.max(outputs.data, 1)[1]\n",
    "                    total+=len(labels)\n",
    "#                 print(len(images), len(labels), len(pred))\n",
    "                    correct += (pred == labels).sum()\n",
    "            accuracy = 100.0 * float(correct) / float(total)\n",
    "            loss_list.append(loss.item())\n",
    "            val_list.append(val_loss.item())\n",
    "            iteration.append(count)\n",
    "    lr_sched.step()\n",
    "            \n",
    "\n",
    "    print('Epoch {} - Training Loss: {} | Val Loss: {} |  Val Accuracy: {}'.format(i, loss.item(), val_loss.item(), float(accuracy)))\n",
    "    "
   ]
  },
  {
   "cell_type": "code",
   "execution_count": 16,
   "metadata": {},
   "outputs": [
    {
     "name": "stderr",
     "output_type": "stream",
     "text": [
      "C:\\ProgramData\\Anaconda3\\lib\\site-packages\\ipykernel_launcher.py:3: UserWarning: To copy construct from a tensor, it is recommended to use sourceTensor.clone().detach() or sourceTensor.clone().detach().requires_grad_(True), rather than torch.tensor(sourceTensor).\n",
      "  This is separate from the ipykernel package so we can avoid doing imports until\n"
     ]
    },
    {
     "name": "stdout",
     "output_type": "stream",
     "text": [
      "Predicted Digit = 2\n"
     ]
    },
    {
     "data": {
      "image/png": "[encoded data removed]",
      "text/plain": [
       "<Figure size 432x288 with 1 Axes>"
      ]
     },
     "metadata": {
      "needs_background": "light"
     },
     "output_type": "display_data"
    }
   ],
   "source": [
    "data=test_img[5][0]\n",
    "plt.imshow(data, cmap='gray')\n",
    "test_data=T.tensor(data).view(-1,1,28,28)\n",
    "\n",
    "with T.no_grad():\n",
    "    test_data=test_img.to('cuda')\n",
    "    logps = model(test_data)\n",
    "\n",
    "    \n",
    "ps = T.exp(logps)\n",
    "ps=ps.cpu()\n",
    "probab = list(ps.numpy()[0])\n",
    "print(\"Predicted Digit =\", probab.index(max(probab)))"
   ]
  },
  {
   "cell_type": "code",
   "execution_count": 17,
   "metadata": {},
   "outputs": [
    {
     "data": {
      "image/png": "[encoded data removed]",
      "text/plain": [
       "<Figure size 576x432 with 1 Axes>"
      ]
     },
     "metadata": {
      "needs_background": "light"
     },
     "output_type": "display_data"
    }
   ],
   "source": [
    "plt.figure(figsize=(8,6))\n",
    "plt.plot(iteration,loss_list)\n",
    "plt.plot(iteration,val_list)\n",
    "plt.xlabel(\"Number of iteration\")\n",
    "plt.ylabel(\"Loss\")\n",
    "plt.title(\"Logistic Regression: Loss vs Number of iteration\")\n",
    "plt.show()"
   ]
  },
  {
   "cell_type": "code",
   "execution_count": 18,
   "metadata": {},
   "outputs": [],
   "source": [
    "T.save(model.state_dict(), 'mnist_inf_mj.pt')"
   ]
  },
  {
   "cell_type": "code",
   "execution_count": 19,
   "metadata": {},
   "outputs": [
    {
     "name": "stderr",
     "output_type": "stream",
     "text": [
      "C:\\ProgramData\\Anaconda3\\lib\\site-packages\\torch\\serialization.py:256: UserWarning: Couldn't retrieve source code for container of type DopeNet. It won't be checked for correctness upon loading.\n",
      "  \"type \" + obj.__name__ + \". It won't be checked \"\n"
     ]
    }
   ],
   "source": [
    "T.save(model, 'mnist_mj_mod.pt')"
   ]
  },
  {
   "cell_type": "code",
   "execution_count": 20,
   "metadata": {},
   "outputs": [
    {
     "name": "stdout",
     "output_type": "stream",
     "text": [
      "torch.Size([28000, 1, 28, 28])\n"
     ]
    }
   ],
   "source": [
    "test = T.utils.data.TensorDataset(test_img)\n",
    "print(test_img.shape)\n",
    "test_loader= T.utils.data.DataLoader(test, batch_size=1, shuffle=False)"
   ]
  },
  {
   "cell_type": "code",
   "execution_count": null,
   "metadata": {},
   "outputs": [],
   "source": [
    "predicts=[]\n",
    "model.eval()\n",
    "for [images] in test_loader:\n",
    "    with T.no_grad():\n",
    "        images=images.to('cuda')\n",
    "        outputs=model(images)\n",
    "        pred=T.max(outputs.data, 1)[1]\n",
    "        predicts.append(pred.item())\n",
    "        "
   ]
  },
  {
   "cell_type": "code",
   "execution_count": null,
   "metadata": {},
   "outputs": [],
   "source": [
    "print(len(predicts))\n"
   ]
  },
  {
   "cell_type": "code",
   "execution_count": null,
   "metadata": {},
   "outputs": [],
   "source": [
    "id = range(1,28001)\n",
    "print(id[3])"
   ]
  },
  {
   "cell_type": "code",
   "execution_count": null,
   "metadata": {},
   "outputs": [],
   "source": [
    "df = pd.DataFrame(list(zip(id,predicts)), columns=['ImageId', 'Label'])"
   ]
  },
  {
   "cell_type": "code",
   "execution_count": null,
   "metadata": {},
   "outputs": [],
   "source": [
    "df.to_csv('mj_mnist_cnn_2.csv')"
   ]
  },
  {
   "cell_type": "code",
   "execution_count": null,
   "metadata": {},
   "outputs": [],
   "source": []
  }
 ],
 "metadata": {
  "kernelspec": {
   "display_name": "Python 3",
   "language": "python",
   "name": "python3"
  },
  "language_info": {
   "codemirror_mode": {
    "name": "ipython",
    "version": 3
   },
   "file_extension": ".py",
   "mimetype": "text/x-python",
   "name": "python",
   "nbconvert_exporter": "python",
   "pygments_lexer": "ipython3",
   "version": "3.7.3"
  }
 },
 "nbformat": 4,
 "nbformat_minor": 4
}
