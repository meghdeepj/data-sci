{
 "cells": [
  {
   "cell_type": "code",
   "execution_count": 21,
   "metadata": {},
   "outputs": [
    {
     "name": "stdout",
     "output_type": "stream",
     "text": [
      "[21, 4, 1, 3, 9, 20, 25, 6, 21, 14]\n"
     ]
    }
   ],
   "source": [
    "import numpy as np\n",
    "\n",
    "def swap(a,b):\n",
    "    temp =a\n",
    "    a =b\n",
    "    b= temp\n",
    "\n",
    "def partition(arr,l,h):\n",
    "    piv=arr[h]\n",
    "    i = l-1\n",
    "    for j in range(l,h):\n",
    "        if arr[j]<=piv:\n",
    "            i=i+1\n",
    "            #if j!=i:\n",
    "            swap(arr[i],arr[j])\n",
    "    swap(arr[i+1],arr[h])\n",
    "    return i+1\n",
    "    \n",
    "def quicksort(arr,l,h):\n",
    "    if l<h:\n",
    "        m=partition(arr,l,h)\n",
    "        quicksort(arr,l,m-1)\n",
    "        quicksort(arr,m+1,h)\n",
    "    return arr\n",
    "    \n",
    "test = [21, 4, 1, 3, 9, 20, 25, 6, 21, 14]\n",
    "print(quicksort(test,0,len(test)-1))"
   ]
  },
  {
   "cell_type": "code",
   "execution_count": null,
   "metadata": {},
   "outputs": [],
   "source": []
  }
 ],
 "metadata": {
  "kernelspec": {
   "display_name": "Python 3",
   "language": "python",
   "name": "python3"
  },
  "language_info": {
   "codemirror_mode": {
    "name": "ipython",
    "version": 3
   },
   "file_extension": ".py",
   "mimetype": "text/x-python",
   "name": "python",
   "nbconvert_exporter": "python",
   "pygments_lexer": "ipython3",
   "version": "3.7.3"
  }
 },
 "nbformat": 4,
 "nbformat_minor": 2
}
