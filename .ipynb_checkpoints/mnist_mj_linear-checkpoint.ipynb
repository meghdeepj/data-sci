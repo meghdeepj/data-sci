{
 "cells": [
  {
   "cell_type": "code",
   "execution_count": 1,
   "metadata": {
    "_cell_guid": "b1076dfc-b9ad-4769-8c92-a6c4dae69d19",
    "_uuid": "8f2839f25d086af736a60e9eeb907d3b93b6e0e5"
   },
   "outputs": [],
   "source": [
    "# This Python 3 environment comes with many helpful analytics libraries installed\n",
    "# It is defined by the kaggle/python docker image: https://github.com/kaggle/docker-python\n",
    "# For example, here's several helpful packages to load in \n",
    "\n",
    "import numpy as np # linear algebra\n",
    "import pandas as pd # data processing, CSV file I/O (e.g. pd.read_csv)\n",
    "\n",
    "# Input data files are available in the \"../input/\" directory.\n",
    "# For example, running this (by clicking run or pressing Shift+Enter) will list all files under the input directory\n",
    "\n",
    "import os\n",
    "for dirname, _, filenames in os.walk('/kaggle/input'):\n",
    "    for filename in filenames:\n",
    "        print(os.path.join(dirname, filename))\n",
    "\n",
    "# Any results you write to the current directory are saved as output."
   ]
  },
  {
   "cell_type": "code",
   "execution_count": 2,
   "metadata": {
    "_cell_guid": "79c7e3d0-c299-4dcb-8224-4455121ee9b0",
    "_uuid": "d629ff2d2480ee46fbb7e2d37f6b5fab8052498a"
   },
   "outputs": [],
   "source": [
    "import matplotlib.pyplot as plt\n",
    "import torch as T\n",
    "import torch.nn as nn\n",
    "import torch.optim as optim\n",
    "import torch.nn.functional as F\n",
    "from sklearn.model_selection import train_test_split"
   ]
  },
  {
   "cell_type": "code",
   "execution_count": 3,
   "metadata": {},
   "outputs": [],
   "source": [
    "train_data_raw=pd.read_csv('./data/mnist_train.csv').astype('float32')\n",
    "test_data_raw=pd.read_csv('./data/mnist_test.csv').astype('float32')"
   ]
  },
  {
   "cell_type": "code",
   "execution_count": 4,
   "metadata": {},
   "outputs": [],
   "source": [
    "train_label=train_data_raw['label'].values\n",
    "train_img=train_data_raw.drop('label', axis=1)\n"
   ]
  },
  {
   "cell_type": "code",
   "execution_count": 5,
   "metadata": {},
   "outputs": [
    {
     "name": "stdout",
     "output_type": "stream",
     "text": [
      "no missing data\n"
     ]
    }
   ],
   "source": [
    "null_bool=train_img.isnull().to_numpy()\n",
    "a=np.ones((784,1))\n",
    "nullz=np.sum(np.dot(null_bool,a))\n",
    "if nullz:\n",
    "    print('there is missing data')\n",
    "else:\n",
    "    print('no missing data')"
   ]
  },
  {
   "cell_type": "code",
   "execution_count": 6,
   "metadata": {},
   "outputs": [],
   "source": [
    "train_img=train_img.values/255\n",
    "test_data=test_data_raw.values/255"
   ]
  },
  {
   "cell_type": "code",
   "execution_count": 7,
   "metadata": {},
   "outputs": [],
   "source": [
    "train_img, val_img, train_label, val_label = train_test_split(train_img, train_label, test_size=0.2, random_state=42)"
   ]
  },
  {
   "cell_type": "code",
   "execution_count": 8,
   "metadata": {},
   "outputs": [
    {
     "name": "stdout",
     "output_type": "stream",
     "text": [
      "torch.Size([8400, 784]) torch.Size([8400]) torch.Size([33600, 784]) torch.Size([33600])\n"
     ]
    }
   ],
   "source": [
    "train_img, train_label=T.from_numpy(train_img), T.from_numpy(train_label).type(T.LongTensor)\n",
    "val_img, val_label=T.from_numpy(val_img), T.from_numpy(val_label).type(T.LongTensor)\n",
    "test_data=T.from_numpy(test_data)\n",
    "\n",
    "print(val_img.size(), val_label.size(), train_img.shape, train_label.shape)"
   ]
  },
  {
   "cell_type": "code",
   "execution_count": 9,
   "metadata": {},
   "outputs": [
    {
     "data": {
      "text/plain": [
       "<Figure size 432x216 with 0 Axes>"
      ]
     },
     "metadata": {},
     "output_type": "display_data"
    },
    {
     "data": {
      "image/png": "[encoded data removed]",
      "text/plain": [
       "<Figure size 432x288 with 6 Axes>"
      ]
     },
     "metadata": {
      "needs_background": "light"
     },
     "output_type": "display_data"
    }
   ],
   "source": [
    "fig = plt.figure(figsize=(6,3))\n",
    "fig, axs = plt.subplots(2,3)\n",
    "fig.suptitle('Vertically stacked subplots')\n",
    "for i in range(2):\n",
    "    for j in range(3):\n",
    "        axs[i,j].imshow(train_img[(i*3+j)*8,:].reshape(28,28), cmap='gray')\n",
    "plt.show()"
   ]
  },
  {
   "cell_type": "code",
   "execution_count": 10,
   "metadata": {},
   "outputs": [
    {
     "name": "stdout",
     "output_type": "stream",
     "text": [
      "DopeNet(\n",
      "  (fc1): Linear(in_features=784, out_features=128, bias=True)\n",
      "  (dropout): Dropout(p=0.2, inplace=False)\n",
      "  (fc2): Linear(in_features=128, out_features=96, bias=True)\n",
      "  (fc3): Linear(in_features=96, out_features=10, bias=True)\n",
      ")\n"
     ]
    }
   ],
   "source": [
    "###HYPERPARAMETER\n",
    "class DopeNet(nn.Module):\n",
    "    \n",
    "    def __init__(self):\n",
    "        super(DopeNet, self).__init__()\n",
    "        \n",
    "        self.fc1= nn.Linear(784, 128)\n",
    "        self.dropout= nn.Dropout(0.2)\n",
    "        self.fc2= nn.Linear(128,96)\n",
    "        self.fc3= nn.Linear(96, 10)\n",
    "        \n",
    "    \n",
    "    def forward(self, input_x):\n",
    "        x = F.relu(self.fc1(input_x))\n",
    "        x = F.relu(self.dropout(self.fc2(x)))\n",
    "        x = self.fc3(x)\n",
    "        \n",
    "        return x\n",
    "    \n",
    "model=DopeNet().to('cuda')\n",
    "# model=DopeNet()\n",
    "print(model)"
   ]
  },
  {
   "cell_type": "code",
   "execution_count": 11,
   "metadata": {},
   "outputs": [],
   "source": [
    "###HYPERPARAMETER\n",
    "n_epoch=50\n",
    "batch_size=128\n",
    "\n",
    "train = T.utils.data.TensorDataset(train_img, train_label)\n",
    "val = T.utils.data.TensorDataset(val_img, val_label)\n"
   ]
  },
  {
   "cell_type": "code",
   "execution_count": 12,
   "metadata": {},
   "outputs": [],
   "source": [
    "#create dataloader\n",
    "train_loader= T.utils.data.DataLoader(train, batch_size=batch_size, shuffle=False)\n",
    "val_loader= T.utils.data.DataLoader(val, batch_size=batch_size, shuffle=False)\n"
   ]
  },
  {
   "cell_type": "code",
   "execution_count": 13,
   "metadata": {},
   "outputs": [],
   "source": [
    "###HYPERPARAMETER\n",
    "lr=0.01\n",
    "betas=(0.9,0.999)\n",
    "momentum=0.9\n",
    "decay_rate=0.95\n",
    "\n",
    "criterion=nn.CrossEntropyLoss()\n",
    "# optimizer=optim.Adam(model.parameters(), lr=lr, betas=betas, weight_decay=1e-5)\n",
    "optimizer=optim.SGD(model.parameters(), lr=lr, momentum=momentum)\n",
    "lr_sched = optim.lr_scheduler.ExponentialLR(optimizer=optimizer, gamma=decay_rate)\n",
    "# lr_sched = optim.lr_scheduler.StepLR(optimizer, step_size=15, gamma=0.1)"
   ]
  },
  {
   "cell_type": "code",
   "execution_count": 14,
   "metadata": {},
   "outputs": [
    {
     "name": "stdout",
     "output_type": "stream",
     "text": [
      "Epoch 0 - Training Loss: 0.089805968105793 | Val Loss: 0.28344857692718506 |  Val Accuracy: 93\n",
      "Epoch 1 - Training Loss: 0.0580405667424202 | Val Loss: 0.2752301096916199 |  Val Accuracy: 94\n",
      "Epoch 2 - Training Loss: 0.010868079960346222 | Val Loss: 0.2063736915588379 |  Val Accuracy: 96\n",
      "Epoch 3 - Training Loss: 0.024950973689556122 | Val Loss: 0.24764733016490936 |  Val Accuracy: 96\n",
      "Epoch 4 - Training Loss: 0.015337139368057251 | Val Loss: 0.17272409796714783 |  Val Accuracy: 96\n",
      "Epoch 5 - Training Loss: 0.011115960776805878 | Val Loss: 0.1574801504611969 |  Val Accuracy: 96\n",
      "Epoch 6 - Training Loss: 0.001960068941116333 | Val Loss: 0.1753944307565689 |  Val Accuracy: 96\n",
      "Epoch 7 - Training Loss: 0.004867076873779297 | Val Loss: 0.17851057648658752 |  Val Accuracy: 96\n",
      "Epoch 8 - Training Loss: 0.005922824144363403 | Val Loss: 0.1616484373807907 |  Val Accuracy: 97\n",
      "Epoch 9 - Training Loss: 0.0018279999494552612 | Val Loss: 0.19362421333789825 |  Val Accuracy: 97\n",
      "Epoch 10 - Training Loss: 0.0041713714599609375 | Val Loss: 0.28750577569007874 |  Val Accuracy: 96\n",
      "Epoch 11 - Training Loss: 0.0018181651830673218 | Val Loss: 0.18183204531669617 |  Val Accuracy: 97\n",
      "Epoch 12 - Training Loss: 0.0007886737585067749 | Val Loss: 0.14451861381530762 |  Val Accuracy: 96\n",
      "Epoch 13 - Training Loss: 0.001126810908317566 | Val Loss: 0.24817177653312683 |  Val Accuracy: 96\n",
      "Epoch 14 - Training Loss: 0.001179918646812439 | Val Loss: 0.17852261662483215 |  Val Accuracy: 97\n",
      "Epoch 15 - Training Loss: 0.0006137639284133911 | Val Loss: 0.15875543653964996 |  Val Accuracy: 97\n",
      "Epoch 16 - Training Loss: 0.0004137307405471802 | Val Loss: 0.1606362760066986 |  Val Accuracy: 97\n",
      "Epoch 17 - Training Loss: 0.0003701746463775635 | Val Loss: 0.16567161679267883 |  Val Accuracy: 97\n",
      "Epoch 18 - Training Loss: 0.0003267824649810791 | Val Loss: 0.16454853117465973 |  Val Accuracy: 97\n",
      "Epoch 19 - Training Loss: 0.00029018521308898926 | Val Loss: 0.16364501416683197 |  Val Accuracy: 97\n",
      "Epoch 20 - Training Loss: 0.00025966763496398926 | Val Loss: 0.16854773461818695 |  Val Accuracy: 97\n",
      "Epoch 21 - Training Loss: 0.00024211406707763672 | Val Loss: 0.1719903200864792 |  Val Accuracy: 97\n",
      "Epoch 22 - Training Loss: 0.0001951158046722412 | Val Loss: 0.17097781598567963 |  Val Accuracy: 97\n",
      "Epoch 23 - Training Loss: 0.0001850724220275879 | Val Loss: 0.1699954867362976 |  Val Accuracy: 97\n",
      "Epoch 24 - Training Loss: 0.00020140409469604492 | Val Loss: 0.1672046184539795 |  Val Accuracy: 97\n",
      "Epoch 25 - Training Loss: 0.00018596649169921875 | Val Loss: 0.17173030972480774 |  Val Accuracy: 97\n",
      "Epoch 26 - Training Loss: 0.00016683340072631836 | Val Loss: 0.17203965783119202 |  Val Accuracy: 97\n",
      "Epoch 27 - Training Loss: 0.00016605854034423828 | Val Loss: 0.17373138666152954 |  Val Accuracy: 97\n",
      "Epoch 28 - Training Loss: 0.00016097724437713623 | Val Loss: 0.181226909160614 |  Val Accuracy: 97\n",
      "Epoch 29 - Training Loss: 0.0001710057258605957 | Val Loss: 0.18408891558647156 |  Val Accuracy: 97\n",
      "Epoch 30 - Training Loss: 0.0001706331968307495 | Val Loss: 0.18123707175254822 |  Val Accuracy: 97\n",
      "Epoch 31 - Training Loss: 0.00017942488193511963 | Val Loss: 0.1820663958787918 |  Val Accuracy: 97\n",
      "Epoch 32 - Training Loss: 0.00018265843391418457 | Val Loss: 0.18239334225654602 |  Val Accuracy: 97\n",
      "Epoch 33 - Training Loss: 0.0001766681671142578 | Val Loss: 0.18357767164707184 |  Val Accuracy: 97\n",
      "Epoch 34 - Training Loss: 0.00017395615577697754 | Val Loss: 0.1828257292509079 |  Val Accuracy: 97\n",
      "Epoch 35 - Training Loss: 0.00017341971397399902 | Val Loss: 0.1819787174463272 |  Val Accuracy: 97\n",
      "Epoch 36 - Training Loss: 0.0001690685749053955 | Val Loss: 0.18321380019187927 |  Val Accuracy: 97\n",
      "Epoch 37 - Training Loss: 0.00016672909259796143 | Val Loss: 0.18356314301490784 |  Val Accuracy: 97\n",
      "Epoch 38 - Training Loss: 0.00016544759273529053 | Val Loss: 0.18283385038375854 |  Val Accuracy: 97\n",
      "Epoch 39 - Training Loss: 0.00017406046390533447 | Val Loss: 0.1838487833738327 |  Val Accuracy: 97\n",
      "Epoch 40 - Training Loss: 0.00017662346363067627 | Val Loss: 0.18516527116298676 |  Val Accuracy: 97\n",
      "Epoch 41 - Training Loss: 0.0001710653305053711 | Val Loss: 0.18422222137451172 |  Val Accuracy: 97\n",
      "Epoch 42 - Training Loss: 0.00017020106315612793 | Val Loss: 0.18340566754341125 |  Val Accuracy: 97\n",
      "Epoch 43 - Training Loss: 0.0001661926507949829 | Val Loss: 0.18324439227581024 |  Val Accuracy: 97\n",
      "Epoch 44 - Training Loss: 0.00016108155250549316 | Val Loss: 0.18447625637054443 |  Val Accuracy: 97\n",
      "Epoch 45 - Training Loss: 0.00016106665134429932 | Val Loss: 0.18425533175468445 |  Val Accuracy: 97\n",
      "Epoch 46 - Training Loss: 0.0001608431339263916 | Val Loss: 0.1841936856508255 |  Val Accuracy: 97\n",
      "Epoch 47 - Training Loss: 0.00016111135482788086 | Val Loss: 0.18429984152317047 |  Val Accuracy: 97\n",
      "Epoch 48 - Training Loss: 0.00016133487224578857 | Val Loss: 0.1842784434556961 |  Val Accuracy: 97\n",
      "Epoch 49 - Training Loss: 0.00016129016876220703 | Val Loss: 0.18417148292064667 |  Val Accuracy: 97\n"
     ]
    }
   ],
   "source": [
    "#train loop\n",
    "count=0\n",
    "loss_list=[]\n",
    "val_list=[]\n",
    "iteration=[]\n",
    "\n",
    "\n",
    "for i in range(n_epoch):\n",
    "    model.train()\n",
    "    for j, (img, label) in enumerate(train_loader):\n",
    "        img = img.to('cuda')\n",
    "        label = label.to('cuda')\n",
    "        optimizer.zero_grad()\n",
    "        output=model(img)\n",
    "        loss=criterion(output,label)\n",
    "        loss.backward()\n",
    "        optimizer.step()\n",
    "        \n",
    "        count+=1\n",
    "        \n",
    "        if count%50 == 0:\n",
    "            correct=0\n",
    "            total=0\n",
    "            model.eval()\n",
    "            for images, labels in val_loader:\n",
    "                with T.no_grad():\n",
    "                    images=images.to('cuda')\n",
    "                    labels=labels.to('cuda')\n",
    "                    outputs=model(images)\n",
    "                    val_loss=criterion(outputs,labels)\n",
    "                    pred=T.max(outputs.data, 1)[1]\n",
    "                    total+=len(labels)\n",
    "#                 print(len(images), len(labels), len(pred))\n",
    "                    correct += (pred == labels).sum()\n",
    "            accuracy = 100 * correct / float(total)\n",
    "            loss_list.append(loss.item())\n",
    "            val_list.append(val_loss.item())\n",
    "            iteration.append(count)\n",
    "    lr_sched.step()\n",
    "            \n",
    "\n",
    "    print('Epoch {} - Training Loss: {} | Val Loss: {} |  Val Accuracy: {}'.format(i, loss.item(), val_loss.item(), float(accuracy))\n",
    "    "
   ]
  },
  {
   "cell_type": "code",
   "execution_count": 15,
   "metadata": {},
   "outputs": [
    {
     "name": "stderr",
     "output_type": "stream",
     "text": [
      "C:\\ProgramData\\Anaconda3\\lib\\site-packages\\ipykernel_launcher.py:3: UserWarning: To copy construct from a tensor, it is recommended to use sourceTensor.clone().detach() or sourceTensor.clone().detach().requires_grad_(True), rather than torch.tensor(sourceTensor).\n",
      "  This is separate from the ipykernel package so we can avoid doing imports until\n"
     ]
    },
    {
     "name": "stdout",
     "output_type": "stream",
     "text": [
      "Predicted Digit = 7\n"
     ]
    },
    {
     "data": {
      "image/png": "[encoded data removed]",
      "text/plain": [
       "<Figure size 432x288 with 1 Axes>"
      ]
     },
     "metadata": {
      "needs_background": "light"
     },
     "output_type": "display_data"
    }
   ],
   "source": [
    "data=test_data[5]\n",
    "plt.imshow(data.reshape(28,28), cmap='gray')\n",
    "test_img=T.tensor(data).view(1,784)\n",
    "\n",
    "with T.no_grad():\n",
    "    test_img=test_img.to('cuda')\n",
    "    logps = model(test_img)\n",
    "\n",
    "    \n",
    "ps = T.exp(logps)\n",
    "ps=ps.cpu()\n",
    "probab = list(ps.numpy()[0])\n",
    "print(\"Predicted Digit =\", probab.index(max(probab)))"
   ]
  },
  {
   "cell_type": "code",
   "execution_count": 16,
   "metadata": {},
   "outputs": [
    {
     "data": {
      "image/png": "[encoded data removed]",
      "text/plain": [
       "<Figure size 576x432 with 1 Axes>"
      ]
     },
     "metadata": {
      "needs_background": "light"
     },
     "output_type": "display_data"
    }
   ],
   "source": [
    "plt.figure(figsize=(8,6))\n",
    "plt.plot(iteration,loss_list)\n",
    "plt.plot(iteration,val_list)\n",
    "plt.xlabel(\"Number of iteration\")\n",
    "plt.ylabel(\"Loss\")\n",
    "plt.title(\"Logistic Regression: Loss vs Number of iteration\")\n",
    "plt.show()"
   ]
  },
  {
   "cell_type": "code",
   "execution_count": 17,
   "metadata": {},
   "outputs": [],
   "source": [
    "T.save(model.state_dict(), 'mnist_inf_mj.pt')"
   ]
  },
  {
   "cell_type": "code",
   "execution_count": 18,
   "metadata": {},
   "outputs": [
    {
     "name": "stderr",
     "output_type": "stream",
     "text": [
      "C:\\ProgramData\\Anaconda3\\lib\\site-packages\\torch\\serialization.py:256: UserWarning: Couldn't retrieve source code for container of type DopeNet. It won't be checked for correctness upon loading.\n",
      "  \"type \" + obj.__name__ + \". It won't be checked \"\n"
     ]
    }
   ],
   "source": [
    "T.save(model, 'mnist_mj_mod.pt')"
   ]
  },
  {
   "cell_type": "code",
   "execution_count": 19,
   "metadata": {},
   "outputs": [],
   "source": [
    "test = T.utils.data.TensorDataset(test_data)\n",
    "test_loader= T.utils.data.DataLoader(test, batch_size=1, shuffle=False)"
   ]
  },
  {
   "cell_type": "code",
   "execution_count": 20,
   "metadata": {},
   "outputs": [],
   "source": [
    "predicts=[]\n",
    "model.eval()\n",
    "for [images] in test_loader:\n",
    "    with T.no_grad():\n",
    "        images=images.to('cuda')\n",
    "        outputs=model(images)\n",
    "        pred=T.max(outputs.data, 1)[1]\n",
    "        predicts.append(pred.item())\n",
    "        "
   ]
  },
  {
   "cell_type": "code",
   "execution_count": 21,
   "metadata": {},
   "outputs": [
    {
     "name": "stdout",
     "output_type": "stream",
     "text": [
      "28000\n"
     ]
    }
   ],
   "source": [
    "print(len(predicts))\n"
   ]
  },
  {
   "cell_type": "code",
   "execution_count": 22,
   "metadata": {},
   "outputs": [
    {
     "name": "stdout",
     "output_type": "stream",
     "text": [
      "4\n"
     ]
    }
   ],
   "source": [
    "id = range(1,28001)\n",
    "print(id[3])"
   ]
  },
  {
   "cell_type": "code",
   "execution_count": 23,
   "metadata": {},
   "outputs": [],
   "source": [
    "df = pd.DataFrame(list(zip(id,predicts)), columns=['ImageId', 'Label'])"
   ]
  },
  {
   "cell_type": "code",
   "execution_count": 24,
   "metadata": {},
   "outputs": [],
   "source": [
    "df.to_csv('mj_mnist.csv')"
   ]
  },
  {
   "cell_type": "code",
   "execution_count": null,
   "metadata": {},
   "outputs": [],
   "source": []
  }
 ],
 "metadata": {
  "kernelspec": {
   "display_name": "Python 3",
   "language": "python",
   "name": "python3"
  },
  "language_info": {
   "codemirror_mode": {
    "name": "ipython",
    "version": 3
   },
   "file_extension": ".py",
   "mimetype": "text/x-python",
   "name": "python",
   "nbconvert_exporter": "python",
   "pygments_lexer": "ipython3",
   "version": "3.7.3"
  }
 },
 "nbformat": 4,
 "nbformat_minor": 4
}
