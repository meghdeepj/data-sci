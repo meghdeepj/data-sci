{
 "cells": [
  {
   "cell_type": "code",
   "execution_count": 16,
   "metadata": {
    "_cell_guid": "b1076dfc-b9ad-4769-8c92-a6c4dae69d19",
    "_uuid": "8f2839f25d086af736a60e9eeb907d3b93b6e0e5"
   },
   "outputs": [],
   "source": [
    "# This Python 3 environment comes with many helpful analytics libraries installed\n",
    "# It is defined by the kaggle/python docker image: https://github.com/kaggle/docker-python\n",
    "# For example, here's several helpful packages to load in \n",
    "\n",
    "import numpy as np # linear algebra\n",
    "import pandas as pd # data processing, CSV file I/O (e.g. pd.read_csv)\n",
    "\n",
    "# Input data files are available in the \"../input/\" directory.\n",
    "# For example, running this (by clicking run or pressing Shift+Enter) will list all files under the input directory\n",
    "\n",
    "import os\n",
    "for dirname, _, filenames in os.walk('/kaggle/input'):\n",
    "    for filename in filenames:\n",
    "        print(os.path.join(dirname, filename))\n",
    "\n",
    "# Any results you write to the current directory are saved as output."
   ]
  },
  {
   "cell_type": "code",
   "execution_count": 17,
   "metadata": {
    "_cell_guid": "79c7e3d0-c299-4dcb-8224-4455121ee9b0",
    "_uuid": "d629ff2d2480ee46fbb7e2d37f6b5fab8052498a"
   },
   "outputs": [],
   "source": [
    "import matplotlib.pyplot as plt\n",
    "import torch as T\n",
    "import torch.nn as nn\n",
    "import torch.optim as optim\n",
    "import torch.nn.functional as F\n",
    "from sklearn.model_selection import train_test_split"
   ]
  },
  {
   "cell_type": "code",
   "execution_count": 18,
   "metadata": {},
   "outputs": [],
   "source": [
    "train_data_raw=pd.read_csv('./data/mnist_train.csv').astype('float32')\n",
    "test_data_raw=pd.read_csv('./data/mnist_test.csv').astype('float32')"
   ]
  },
  {
   "cell_type": "code",
   "execution_count": 19,
   "metadata": {},
   "outputs": [],
   "source": [
    "train_label=train_data_raw['label'].values\n",
    "train_img=train_data_raw.drop('label', axis=1)"
   ]
  },
  {
   "cell_type": "code",
   "execution_count": 20,
   "metadata": {},
   "outputs": [
    {
     "name": "stdout",
     "output_type": "stream",
     "text": [
      "no missing data\n"
     ]
    }
   ],
   "source": [
    "null_bool=train_img.isnull().to_numpy()\n",
    "a=np.ones((784,1))\n",
    "nullz=np.sum(np.dot(null_bool,a))\n",
    "if nullz:\n",
    "    print('there is missing data')\n",
    "else:\n",
    "    print('no missing data')"
   ]
  },
  {
   "cell_type": "code",
   "execution_count": 21,
   "metadata": {},
   "outputs": [
    {
     "name": "stdout",
     "output_type": "stream",
     "text": [
      "(70000, 1, 28, 28)\n"
     ]
    }
   ],
   "source": [
    "train_img=train_img.values/255\n",
    "\n",
    "test_img=test_data_raw.values/255\n",
    "\n",
    "all_img=np.concatenate((train_img, test_img), axis=0)\n",
    "\n",
    "train_img=train_img.reshape(-1,1,28,28)\n",
    "test_img=test_img.reshape(-1,1,28,28)\n",
    "all_img=all_img.reshape(-1,1,28,28)\n",
    "print(all_img.shape)    \n"
   ]
  },
  {
   "cell_type": "code",
   "execution_count": 22,
   "metadata": {},
   "outputs": [
    {
     "data": {
      "text/plain": [
       "(42000, 1, 28, 28)"
      ]
     },
     "execution_count": 22,
     "metadata": {},
     "output_type": "execute_result"
    }
   ],
   "source": [
    "train_img.shape"
   ]
  },
  {
   "cell_type": "code",
   "execution_count": 23,
   "metadata": {},
   "outputs": [],
   "source": [
    "# train_img, val_img, train_label, val_label = train_test_split(train_img, train_label, test_size=0.05, random_state=42)"
   ]
  },
  {
   "cell_type": "code",
   "execution_count": 24,
   "metadata": {},
   "outputs": [],
   "source": [
    "train_img, train_label=T.from_numpy(train_img), T.from_numpy(train_label).type(T.LongTensor)\n",
    "# val_img, val_label=T.from_numpy(val_img), T.from_numpy(val_label).type(T.LongTensor)\n",
    "test_img=T.from_numpy(test_img)\n",
    "\n",
    "# print(val_img.size(), val_label.size(), train_img.shape, train_label.shape)"
   ]
  },
  {
   "cell_type": "code",
   "execution_count": 25,
   "metadata": {},
   "outputs": [
    {
     "data": {
      "text/plain": [
       "<Figure size 432x216 with 0 Axes>"
      ]
     },
     "metadata": {},
     "output_type": "display_data"
    },
    {
     "data": {
      "image/png": "[encoded data removed]",
      "text/plain": [
       "<Figure size 432x288 with 6 Axes>"
      ]
     },
     "metadata": {
      "needs_background": "light"
     },
     "output_type": "display_data"
    }
   ],
   "source": [
    "fig = plt.figure(figsize=(6,3))\n",
    "fig, axs = plt.subplots(2,3)\n",
    "fig.suptitle('Vertically stacked subplots')\n",
    "for i in range(2):\n",
    "    for j in range(3):\n",
    "        axs[i,j].imshow(train_img[(i*3+j)*8,:][0], cmap='gray')\n",
    "plt.show()"
   ]
  },
  {
   "cell_type": "markdown",
   "metadata": {},
   "source": [
    "class DopeNet(nn.Module):\n",
    "    \n",
    "    def __init__(self):\n",
    "        super(DopeNet, self).__init__()\n",
    "        \n",
    "        self.fc1= nn.Linear(784, 128)\n",
    "        self.dropout= nn.Dropout(0.2)\n",
    "        self.fc2= nn.Linear(128,96)\n",
    "        self.fc3= nn.Linear(96, 10)\n",
    "        \n",
    "    \n",
    "    def forward(self, input_x):\n",
    "        x = F.relu(self.fc1(input_x))\n",
    "        x = F.relu(self.dropout(self.fc2(x)))\n",
    "        x = F.relu(self.fc3(x))\n",
    "        \n",
    "        return x\n",
    "    \n",
    "model=DopeNet().to('cuda')\n",
    "print(model)"
   ]
  },
  {
   "cell_type": "code",
   "execution_count": 26,
   "metadata": {},
   "outputs": [
    {
     "name": "stdout",
     "output_type": "stream",
     "text": [
      "DopeNet(\n",
      "  (conv1): Conv2d(1, 16, kernel_size=(5, 5), stride=(1, 1), padding=(2, 2))\n",
      "  (bn1): BatchNorm2d(16, eps=1e-05, momentum=0.1, affine=True, track_running_stats=True)\n",
      "  (conv2): Conv2d(16, 32, kernel_size=(5, 5), stride=(1, 1), padding=(2, 2))\n",
      "  (bn2): BatchNorm2d(32, eps=1e-05, momentum=0.1, affine=True, track_running_stats=True)\n",
      "  (fc1): Linear(in_features=1568, out_features=128, bias=True)\n",
      "  (fc2): Linear(in_features=128, out_features=64, bias=True)\n",
      "  (fc3): Linear(in_features=64, out_features=10, bias=True)\n",
      ")\n"
     ]
    }
   ],
   "source": [
    "class DopeNet(nn.Module):\n",
    "    \n",
    "    def __init__(self):\n",
    "        super(DopeNet, self).__init__()\n",
    "        \n",
    "        self.conv1= nn.Conv2d(1, 16, 5, stride=1, padding=2)\n",
    "        self.bn1 = nn.BatchNorm2d(16)\n",
    "        self.conv2= nn.Conv2d(16, 32, 5, stride=1, padding=2)\n",
    "        self.bn2 = nn.BatchNorm2d(32)\n",
    "        self.fc1= nn.Linear(32*7*7,128)\n",
    "        self.fc2= nn.Linear(128,64)\n",
    "        self.fc3= nn.Linear(64, 10)\n",
    "        \n",
    "    \n",
    "    def forward(self, input_x):\n",
    "        x = F.max_pool2d(F.relu(self.bn1(self.conv1(input_x))),2)\n",
    "        x = F.max_pool2d(F.relu(self.bn2(self.conv2(x))),2)\n",
    "        x = x.view(-1,32*7*7)\n",
    "        x = F.relu(self.fc1(x))\n",
    "        x = F.relu(self.fc2(x))\n",
    "        x = self.fc3(x)\n",
    "        return x\n",
    "    \n",
    "model=DopeNet().to('cuda')\n",
    "print(model)"
   ]
  },
  {
   "cell_type": "code",
   "execution_count": 28,
   "metadata": {},
   "outputs": [],
   "source": [
    "###HYPERPARAMETER\n",
    "n_epoch=30\n",
    "batch_size=64\n",
    "\n",
    "train = T.utils.data.TensorDataset(train_img, train_label)\n",
    "# val = T.utils.data.TensorDataset(val_img, val_label)\n"
   ]
  },
  {
   "cell_type": "code",
   "execution_count": 30,
   "metadata": {},
   "outputs": [],
   "source": [
    "#create dataloader\n",
    "train_loader= T.utils.data.DataLoader(train, batch_size=batch_size, shuffle=False)\n",
    "# val_loader= T.utils.data.DataLoader(val, batch_size=batch_size, shuffle=False)\n"
   ]
  },
  {
   "cell_type": "code",
   "execution_count": 31,
   "metadata": {},
   "outputs": [],
   "source": [
    "###HYPERPARAMETER\n",
    "lr=0.01\n",
    "betas=(0.9,0.999)\n",
    "momentum=0.9\n",
    "decay_rate=0.95\n",
    "\n",
    "criterion=nn.CrossEntropyLoss()\n",
    "# optimizer=optim.Adam(model.parameters(), lr=lr, betas=betas)\n",
    "optimizer=optim.SGD(model.parameters(), lr=lr, momentum=momentum)\n",
    "# lr_sched = optim.lr_scheduler.ExponentialLR(optimizer=optimizer, gamma=decay_rate)\n",
    "lr_sched = optim.lr_scheduler.StepLR(optimizer, step_size=10, gamma=0.1)"
   ]
  },
  {
   "cell_type": "code",
   "execution_count": 32,
   "metadata": {},
   "outputs": [
    {
     "ename": "IndexError",
     "evalue": "tuple index out of range",
     "output_type": "error",
     "traceback": [
      "\u001b[1;31m---------------------------------------------------------------------------\u001b[0m",
      "\u001b[1;31mIndexError\u001b[0m                                Traceback (most recent call last)",
      "\u001b[1;32m<ipython-input-32-c3adcfc50b6e>\u001b[0m in \u001b[0;36m<module>\u001b[1;34m\u001b[0m\n\u001b[0;32m     38\u001b[0m \u001b[1;33m\u001b[0m\u001b[0m\n\u001b[0;32m     39\u001b[0m \u001b[1;33m\u001b[0m\u001b[0m\n\u001b[1;32m---> 40\u001b[1;33m     \u001b[0mprint\u001b[0m\u001b[1;33m(\u001b[0m\u001b[1;34m'Epoch {} - Training Loss: {} | Val Loss: |  Val Accuracy: {}'\u001b[0m\u001b[1;33m.\u001b[0m\u001b[0mformat\u001b[0m\u001b[1;33m(\u001b[0m\u001b[0mi\u001b[0m\u001b[1;33m,\u001b[0m \u001b[0mloss\u001b[0m\u001b[1;33m.\u001b[0m\u001b[0mitem\u001b[0m\u001b[1;33m(\u001b[0m\u001b[1;33m)\u001b[0m\u001b[1;33m)\u001b[0m\u001b[1;33m)\u001b[0m\u001b[1;33m\u001b[0m\u001b[1;33m\u001b[0m\u001b[0m\n\u001b[0m\u001b[0;32m     41\u001b[0m \u001b[1;33m\u001b[0m\u001b[0m\n",
      "\u001b[1;31mIndexError\u001b[0m: tuple index out of range"
     ]
    }
   ],
   "source": [
    "#train loop\n",
    "count=0\n",
    "loss_list=[]\n",
    "val_list=[]\n",
    "iteration=[]\n",
    "\n",
    "for i in range(n_epoch):\n",
    "    model.train()\n",
    "    for j, (img, label) in enumerate(train_loader):\n",
    "        img = img.to('cuda')\n",
    "        label = label.to('cuda')\n",
    "        optimizer.zero_grad()\n",
    "        output=model(img)\n",
    "        loss=criterion(output,label)\n",
    "        loss.backward()\n",
    "        optimizer.step()\n",
    "        count+=1    \n",
    "        \n",
    "        if count%50 == 0:\n",
    "#             correct=0\n",
    "#             total=0\n",
    "#             model.eval()\n",
    "#             for images, labels in val_loader:\n",
    "#                 with T.no_grad():\n",
    "#                     images=images.to('cuda')\n",
    "#                     labels=labels.to('cuda')\n",
    "#                     outputs=model(images)\n",
    "#                     val_loss=criterion(outputs,labels)\n",
    "#                     pred=T.max(outputs.data, 1)[1]\n",
    "#                     total+=len(labels)\n",
    "# #                 print(len(images), len(labels), len(pred))\n",
    "#                     correct += (pred == labels).sum()\n",
    "#             accuracy = 100.0 * float(correct) / float(total)\n",
    "            loss_list.append(loss.item())\n",
    "#             val_list.append(val_loss.item())\n",
    "            iteration.append(count)\n",
    "    lr_sched.step()\n",
    "            \n",
    "\n",
    "    print('Epoch {} - Training Loss: {} | Val Loss: |  Val Accuracy: {}'.format(i, loss.item()))\n",
    "    "
   ]
  },
  {
   "cell_type": "code",
   "execution_count": null,
   "metadata": {},
   "outputs": [],
   "source": [
    "data=test_img[5][0]\n",
    "plt.imshow(data, cmap='gray')\n",
    "test_data=T.tensor(data).view(-1,1,28,28)\n",
    "\n",
    "with T.no_grad():\n",
    "    test_data=test_img.to('cuda')\n",
    "    logps = model(test_data)\n",
    "\n",
    "    \n",
    "ps = T.exp(logps)\n",
    "ps=ps.cpu()\n",
    "probab = list(ps.numpy()[0])\n",
    "print(\"Predicted Digit =\", probab.index(max(probab)))"
   ]
  },
  {
   "cell_type": "code",
   "execution_count": null,
   "metadata": {},
   "outputs": [],
   "source": [
    "plt.figure(figsize=(8,6))\n",
    "plt.plot(iteration,loss_list)\n",
    "# plt.plot(iteration,val_list)\n",
    "plt.xlabel(\"Number of iteration\")\n",
    "plt.ylabel(\"Loss\")\n",
    "plt.title(\"Logistic Regression: Loss vs Number of iteration\")\n",
    "plt.show()"
   ]
  },
  {
   "cell_type": "code",
   "execution_count": null,
   "metadata": {},
   "outputs": [],
   "source": [
    "T.save(model.state_dict(), 'mnist_inf_mj.pt')"
   ]
  },
  {
   "cell_type": "code",
   "execution_count": null,
   "metadata": {},
   "outputs": [],
   "source": [
    "T.save(model, 'mnist_mj_mod.pt')"
   ]
  },
  {
   "cell_type": "code",
   "execution_count": null,
   "metadata": {},
   "outputs": [],
   "source": [
    "test = T.utils.data.TensorDataset(test_img)\n",
    "print(test_img.shape)\n",
    "test_loader= T.utils.data.DataLoader(test, batch_size=1, shuffle=False)"
   ]
  },
  {
   "cell_type": "code",
   "execution_count": null,
   "metadata": {},
   "outputs": [],
   "source": [
    "predicts=[]\n",
    "model.eval()\n",
    "for [images] in test_loader:\n",
    "    with T.no_grad():\n",
    "        images=images.to('cuda')\n",
    "        outputs=model(images)\n",
    "        pred=T.max(outputs.data, 1)[1]\n",
    "        predicts.append(pred.item())\n",
    "        "
   ]
  },
  {
   "cell_type": "code",
   "execution_count": null,
   "metadata": {},
   "outputs": [],
   "source": [
    "print(len(predicts))\n"
   ]
  },
  {
   "cell_type": "code",
   "execution_count": null,
   "metadata": {},
   "outputs": [],
   "source": [
    "id = range(1,28001)\n",
    "print(id[3])"
   ]
  },
  {
   "cell_type": "code",
   "execution_count": null,
   "metadata": {},
   "outputs": [],
   "source": [
    "df = pd.DataFrame(list(zip(id,predicts)), columns=['ImageId', 'Label'])"
   ]
  },
  {
   "cell_type": "code",
   "execution_count": null,
   "metadata": {},
   "outputs": [],
   "source": [
    "df.to_csv('mj_mnist_cnn_3.csv')"
   ]
  },
  {
   "cell_type": "code",
   "execution_count": null,
   "metadata": {},
   "outputs": [],
   "source": []
  }
 ],
 "metadata": {
  "kernelspec": {
   "display_name": "Python 3",
   "language": "python",
   "name": "python3"
  },
  "language_info": {
   "codemirror_mode": {
    "name": "ipython",
    "version": 3
   },
   "file_extension": ".py",
   "mimetype": "text/x-python",
   "name": "python",
   "nbconvert_exporter": "python",
   "pygments_lexer": "ipython3",
   "version": "3.7.3"
  }
 },
 "nbformat": 4,
 "nbformat_minor": 4
}
