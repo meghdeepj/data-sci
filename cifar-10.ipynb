{
 "cells": [
  {
   "cell_type": "markdown",
   "metadata": {},
   "source": [
    "### CIFAR-10 Object Classification Challenge - Kaggle\n",
    "<!-- #### CNN Pytorch, CUDA GPU: Nvidia GTX 960 -->"
   ]
  },
  {
   "cell_type": "markdown",
   "metadata": {},
   "source": [
    "#### Import libraries"
   ]
  },
  {
   "cell_type": "code",
   "execution_count": 1,
   "metadata": {},
   "outputs": [],
   "source": [
    "import numpy as np\n",
    "import matplotlib.pyplot as plt\n",
    "import pandas as pd\n",
    "import time\n",
    "import os\n",
    "import cv2"
   ]
  },
  {
   "cell_type": "code",
   "execution_count": 2,
   "metadata": {},
   "outputs": [],
   "source": [
    "import torch as T\n",
    "import torch.nn as nn\n",
    "import torch.nn.functional as F\n",
    "import torch.optim as optim\n",
    "from torchvision import transforms, datasets\n",
    "from sklearn.model_selection import train_test_split"
   ]
  },
  {
   "cell_type": "markdown",
   "metadata": {},
   "source": [
    "#### Load the data"
   ]
  },
  {
   "cell_type": "code",
   "execution_count": 3,
   "metadata": {},
   "outputs": [],
   "source": [
    "# path_train=\"./data/CIFAR-10/train\"\n",
    "# path_test=\"./data/CIFAR-10/test\""
   ]
  },
  {
   "cell_type": "code",
   "execution_count": 4,
   "metadata": {},
   "outputs": [],
   "source": [
    "transform=transforms.Compose([\n",
    "            transforms.ToTensor(),\n",
    "                             ])"
   ]
  },
  {
   "cell_type": "code",
   "execution_count": 5,
   "metadata": {},
   "outputs": [
    {
     "name": "stdout",
     "output_type": "stream",
     "text": [
      "Files already downloaded and verified\n",
      "Files already downloaded and verified\n"
     ]
    }
   ],
   "source": [
    "trainset=datasets.CIFAR10(\"./data/cifar/train\",train=True, download=True, transform=transform)\n",
    "testset=datasets.CIFAR10(\"./data/cifar/test\",train=False, download=True, transform=transform)"
   ]
  },
  {
   "cell_type": "code",
   "execution_count": 6,
   "metadata": {},
   "outputs": [],
   "source": [
    "n_epoch=30\n",
    "batch_size=128"
   ]
  },
  {
   "cell_type": "code",
   "execution_count": 7,
   "metadata": {},
   "outputs": [],
   "source": [
    "trainloader=T.utils.data.DataLoader(trainset, batch_size=batch_size, shuffle=False, num_workers=2)\n",
    "testloader=T.utils.data.DataLoader(testset, batch_size=batch_size, shuffle=False, num_workers=2)"
   ]
  },
  {
   "cell_type": "code",
   "execution_count": 8,
   "metadata": {},
   "outputs": [
    {
     "name": "stdout",
     "output_type": "stream",
     "text": [
      "tensor(6)\n"
     ]
    },
    {
     "data": {
      "image/png": "[encoded data removed]",
      "text/plain": [
       "<Figure size 432x288 with 1 Axes>"
      ]
     },
     "metadata": {
      "needs_background": "light"
     },
     "output_type": "display_data"
    }
   ],
   "source": [
    "trainiter=iter(trainloader)\n",
    "img,lab=trainiter.next()\n",
    "print(lab[0])\n",
    "plt.imshow(np.transpose(img[0],(1,2,0)))\n",
    "plt.show()"
   ]
  },
  {
   "cell_type": "code",
   "execution_count": 9,
   "metadata": {},
   "outputs": [
    {
     "name": "stdout",
     "output_type": "stream",
     "text": [
      "torch.Size([128])\n"
     ]
    },
    {
     "data": {
      "image/png": "[encoded data removed]",
      "text/plain": [
       "<Figure size 432x288 with 1 Axes>"
      ]
     },
     "metadata": {
      "needs_background": "light"
     },
     "output_type": "display_data"
    }
   ],
   "source": [
    "testiter=iter(testloader)\n",
    "img_t,lab_t=testiter.next()\n",
    "print(lab_t.shape)\n",
    "plt.imshow(np.transpose(img_t[1],(1,2,0)))\n",
    "plt.show()"
   ]
  },
  {
   "cell_type": "code",
   "execution_count": 10,
   "metadata": {},
   "outputs": [],
   "source": [
    "classes={1:\"automobile\",2:\"bird\",3:\"cat\",4:\"deer\",5:\"dog\",6:\"frog\",7:\"horse\",8:\"ship\",9:\"truck\",0:\"airplane\"}"
   ]
  },
  {
   "cell_type": "markdown",
   "metadata": {},
   "source": [
    "#### Define the Model"
   ]
  },
  {
   "cell_type": "code",
   "execution_count": 11,
   "metadata": {},
   "outputs": [
    {
     "name": "stdout",
     "output_type": "stream",
     "text": [
      "MJNet(\n",
      "  (conv1): Conv2d(3, 32, kernel_size=(3, 3), stride=(1, 1), padding=(1, 1))\n",
      "  (dropout): Dropout2d(p=0.25, inplace=False)\n",
      "  (pool): MaxPool2d(kernel_size=2, stride=2, padding=0, dilation=1, ceil_mode=False)\n",
      "  (conv2): Conv2d(32, 64, kernel_size=(3, 3), stride=(1, 1), padding=(1, 1))\n",
      "  (conv3): Conv2d(64, 64, kernel_size=(3, 3), stride=(1, 1), padding=(1, 1))\n",
      "  (fc1): Linear(in_features=4096, out_features=512, bias=True)\n",
      "  (fc2): Linear(in_features=512, out_features=128, bias=True)\n",
      "  (fc3): Linear(in_features=128, out_features=10, bias=True)\n",
      ")\n"
     ]
    }
   ],
   "source": [
    "class MJNet(nn.Module):\n",
    "    def __init__(self):\n",
    "        super(MJNet,self).__init__()\n",
    "        \n",
    "        self.conv1=nn.Conv2d(3, 32, 3, padding=1)\n",
    "        self.dropout=nn.Dropout2d(p=0.25)\n",
    "        self.pool=nn.MaxPool2d(2,2)\n",
    "#         self.conv2=nn.Conv2d(32,32,3,padding=1)\n",
    "        self.conv2=nn.Conv2d(32,64,3, padding=1)\n",
    "        self.conv3=nn.Conv2d(64,64,3, padding=1)\n",
    "        self.fc1=nn.Linear(64*8*8,512)\n",
    "        self.fc2=nn.Linear(512,128)\n",
    "        self.fc3=nn.Linear(128,10)        \n",
    "        \n",
    "    def forward(self,x):\n",
    "        \n",
    "        x=F.relu(self.conv1(x))\n",
    "        x=self.dropout(self.pool(F.relu(self.conv2(x))))\n",
    "        x=self.dropout(self.pool(F.relu(self.conv3(x))))\n",
    "        x=x.view(-1,64*8*8)\n",
    "        x=F.relu(self.fc1(x))\n",
    "        x=F.relu(self.fc2(x))\n",
    "        x=F.log_softmax(self.fc3(x), dim=1)\n",
    "        \n",
    "        return x\n",
    "        \n",
    "net=MJNet().cuda()\n",
    "print(net)        "
   ]
  },
  {
   "cell_type": "code",
   "execution_count": 12,
   "metadata": {},
   "outputs": [],
   "source": [
    "criterion=nn.NLLLoss()\n",
    "optimizer=optim.Adam(net.parameters(), lr=0.0005)\n",
    "lr_sched=optim.lr_scheduler.StepLR(optimizer, step_size=10, gamma=0.2)"
   ]
  },
  {
   "cell_type": "markdown",
   "metadata": {},
   "source": [
    "#### Training"
   ]
  },
  {
   "cell_type": "code",
   "execution_count": 13,
   "metadata": {},
   "outputs": [
    {
     "name": "stdout",
     "output_type": "stream",
     "text": [
      "train done?\n",
      "Epoch:0 - Training Loss:1.7272362748680212 - Val Loss:1.404647777352152 - Val Accc:49.76\n",
      "train done?\n",
      "Epoch:1 - Training Loss:1.3458933595501248 - Val Loss:1.1700779908820043 - Val Accc:58.29\n",
      "train done?\n",
      "Epoch:2 - Training Loss:1.1691518328378878 - Val Loss:1.054528408412692 - Val Accc:62.82\n",
      "train done?\n",
      "Epoch:3 - Training Loss:1.037516833571217 - Val Loss:0.9430853203882145 - Val Accc:66.65\n",
      "train done?\n",
      "Epoch:4 - Training Loss:0.9362166026973968 - Val Loss:0.8788543615160109 - Val Accc:69.18\n",
      "train done?\n",
      "Epoch:5 - Training Loss:0.8614769332549151 - Val Loss:0.8395843264422839 - Val Accc:70.51\n",
      "train done?\n",
      "Epoch:6 - Training Loss:0.7776104002962332 - Val Loss:0.8151957113531572 - Val Accc:71.75\n",
      "train done?\n",
      "Epoch:7 - Training Loss:0.7203468756602548 - Val Loss:0.8043280847464935 - Val Accc:72.73\n",
      "train done?\n",
      "Epoch:8 - Training Loss:0.6525085718582964 - Val Loss:0.7953825328923478 - Val Accc:73.03\n",
      "train done?\n",
      "Epoch:9 - Training Loss:0.5880507953331598 - Val Loss:0.7778510247604756 - Val Accc:73.63\n",
      "train done?\n",
      "Epoch:10 - Training Loss:0.5308767750744929 - Val Loss:0.7797902675369118 - Val Accc:73.96\n",
      "train done?\n",
      "Epoch:11 - Training Loss:0.47933377481787404 - Val Loss:0.8495535299747805 - Val Accc:72.72\n",
      "train done?\n",
      "Epoch:12 - Training Loss:0.43262728614270535 - Val Loss:0.8305375032787081 - Val Accc:73.49\n",
      "train done?\n",
      "Epoch:13 - Training Loss:0.38283482887555875 - Val Loss:0.8871681743030306 - Val Accc:72.77\n",
      "train done?\n",
      "Epoch:14 - Training Loss:0.34548458479859334 - Val Loss:0.9837247638762752 - Val Accc:71.95\n",
      "train done?\n",
      "Epoch:15 - Training Loss:0.30613458598666177 - Val Loss:0.9817835032185421 - Val Accc:72.65\n",
      "train done?\n",
      "Epoch:16 - Training Loss:0.2713314449543233 - Val Loss:1.0011673531954801 - Val Accc:72.43\n",
      "train done?\n",
      "Epoch:17 - Training Loss:0.24329592032200845 - Val Loss:1.0226948721499383 - Val Accc:73.14\n",
      "train done?\n",
      "Epoch:18 - Training Loss:0.22384336013394548 - Val Loss:1.0241113146649132 - Val Accc:72.92\n",
      "train done?\n",
      "Epoch:19 - Training Loss:0.20685169100761414 - Val Loss:1.1287528261353699 - Val Accc:72.56\n",
      "train done?\n",
      "Epoch:20 - Training Loss:0.1872142698720593 - Val Loss:1.088730799246438 - Val Accc:73.56\n",
      "train done?\n",
      "Epoch:21 - Training Loss:0.1691902628182755 - Val Loss:1.1618454810939258 - Val Accc:73.37\n",
      "train done?\n",
      "Epoch:22 - Training Loss:0.15848530404974737 - Val Loss:1.1421473411065113 - Val Accc:73.12\n",
      "train done?\n",
      "Epoch:23 - Training Loss:0.14740077652932737 - Val Loss:1.179507414751415 - Val Accc:73.4\n",
      "train done?\n",
      "Epoch:24 - Training Loss:0.13575666924686078 - Val Loss:1.2152781033817726 - Val Accc:73.24\n",
      "train done?\n",
      "Epoch:25 - Training Loss:0.13465139868161868 - Val Loss:1.2402502056918567 - Val Accc:73.35\n",
      "train done?\n",
      "Epoch:26 - Training Loss:0.12619851074179114 - Val Loss:1.2336016923566409 - Val Accc:72.85\n",
      "train done?\n",
      "Epoch:27 - Training Loss:0.12223065439182931 - Val Loss:1.2357033921193472 - Val Accc:73.6\n",
      "train done?\n",
      "Epoch:28 - Training Loss:0.1130498124815314 - Val Loss:1.247355654269834 - Val Accc:73.15\n",
      "train done?\n",
      "Epoch:29 - Training Loss:0.10229338852264692 - Val Loss:1.2620843271665936 - Val Accc:74.0\n"
     ]
    }
   ],
   "source": [
    "for i in range(n_epoch):\n",
    "    net.train()\n",
    "    run_loss=0\n",
    "    count=0\n",
    "    cnt=0\n",
    "    run_vloss=0\n",
    "    for j, (img,labels) in enumerate(trainloader):\n",
    "        img=img.cuda()\n",
    "        labels=labels.cuda()\n",
    "        output=net(img)\n",
    "        optimizer.zero_grad()\n",
    "        loss=criterion(output,labels)\n",
    "        loss.backward()\n",
    "        optimizer.step()\n",
    "        count+=1\n",
    "        run_loss+=loss.item()\n",
    "    print(\"train done?\")\n",
    "    net.eval()\n",
    "    total=0\n",
    "    correct=0\n",
    "    for k, (img_t,labels_t) in enumerate(testloader):\n",
    "        with T.no_grad():\n",
    "            img_t=img_t.cuda()\n",
    "            labels_t=labels_t.cuda()\n",
    "            output_t=net(img_t)\n",
    "            val_loss=criterion(output_t,labels_t)\n",
    "            run_vloss+=val_loss.item()\n",
    "            pred=T.max(output_t.data,1)[1]\n",
    "            total+=len(labels_t)\n",
    "            cnt+=1\n",
    "            correct+=(pred==labels_t).sum()\n",
    "            accuracy= 100.0 *float(correct)/float(total)\n",
    "#     lr_sched.step()        \n",
    "    print('Epoch:{} - Training Loss:{} - Val Loss:{} - Val Accc:{}'.format(i, run_loss/count, run_vloss/cnt, accuracy))               "
   ]
  },
  {
   "cell_type": "code",
   "execution_count": 14,
   "metadata": {},
   "outputs": [
    {
     "name": "stdout",
     "output_type": "stream",
     "text": [
      "Val accuracy 74.0\n"
     ]
    }
   ],
   "source": [
    "net.eval()\n",
    "total=0\n",
    "correct=0\n",
    "for k, (img_t,labels_t) in enumerate(testloader):\n",
    "        with T.no_grad():\n",
    "            img_t=img_t.to('cuda')\n",
    "            labels_t=labels_t.to('cuda')\n",
    "            output_t=net(img_t)\n",
    "            val_loss=criterion(output_t,labels_t)\n",
    "            pred=T.max(output_t.data,1)[1]\n",
    "            total+=len(labels_t)\n",
    "            correct+=(pred==labels_t).sum()\n",
    "accuracy= 100.0 *float(correct)/float(total)\n",
    "print('Val accuracy', accuracy)"
   ]
  },
  {
   "cell_type": "code",
   "execution_count": 15,
   "metadata": {},
   "outputs": [],
   "source": [
    "T.save(net.state_dict(),'./cifar-10-cnn-adam.pth')"
   ]
  },
  {
   "cell_type": "code",
   "execution_count": null,
   "metadata": {},
   "outputs": [],
   "source": []
  }
 ],
 "metadata": {
  "kernelspec": {
   "display_name": "Python 3",
   "language": "python",
   "name": "python3"
  },
  "language_info": {
   "codemirror_mode": {
    "name": "ipython",
    "version": 3
   },
   "file_extension": ".py",
   "mimetype": "text/x-python",
   "name": "python",
   "nbconvert_exporter": "python",
   "pygments_lexer": "ipython3",
   "version": "3.7.7"
  },
  "toc": {
   "base_numbering": 1,
   "nav_menu": {},
   "number_sections": true,
   "sideBar": true,
   "skip_h1_title": false,
   "title_cell": "Table of Contents",
   "title_sidebar": "Contents",
   "toc_cell": false,
   "toc_position": {},
   "toc_section_display": true,
   "toc_window_display": false
  }
 },
 "nbformat": 4,
 "nbformat_minor": 4
}
