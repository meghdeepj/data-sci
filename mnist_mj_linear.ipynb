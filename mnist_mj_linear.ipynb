{
 "cells": [
  {
   "cell_type": "code",
   "execution_count": 1,
   "metadata": {
    "_cell_guid": "b1076dfc-b9ad-4769-8c92-a6c4dae69d19",
    "_uuid": "8f2839f25d086af736a60e9eeb907d3b93b6e0e5"
   },
   "outputs": [],
   "source": [
    "# This Python 3 environment comes with many helpful analytics libraries installed\n",
    "# It is defined by the kaggle/python docker image: https://github.com/kaggle/docker-python\n",
    "# For example, here's several helpful packages to load in \n",
    "\n",
    "import numpy as np # linear algebra\n",
    "import pandas as pd # data processing, CSV file I/O (e.g. pd.read_csv)\n",
    "\n",
    "# Input data files are available in the \"../input/\" directory.\n",
    "# For example, running this (by clicking run or pressing Shift+Enter) will list all files under the input directory\n",
    "\n",
    "import os\n",
    "for dirname, _, filenames in os.walk('/kaggle/input'):\n",
    "    for filename in filenames:\n",
    "        print(os.path.join(dirname, filename))\n",
    "\n",
    "# Any results you write to the current directory are saved as output."
   ]
  },
  {
   "cell_type": "code",
   "execution_count": 2,
   "metadata": {
    "_cell_guid": "79c7e3d0-c299-4dcb-8224-4455121ee9b0",
    "_uuid": "d629ff2d2480ee46fbb7e2d37f6b5fab8052498a"
   },
   "outputs": [],
   "source": [
    "import matplotlib.pyplot as plt\n",
    "import torch as T\n",
    "import torch.nn as nn\n",
    "import torch.optim as optim\n",
    "import torch.nn.functional as F\n",
    "from sklearn.model_selection import train_test_split"
   ]
  },
  {
   "cell_type": "code",
   "execution_count": 3,
   "metadata": {},
   "outputs": [],
   "source": [
    "train_data_raw=pd.read_csv('./data/mnist_train.csv').astype('float32')\n",
    "test_data_raw=pd.read_csv('./data/mnist_test.csv').astype('float32')"
   ]
  },
  {
   "cell_type": "code",
   "execution_count": 4,
   "metadata": {},
   "outputs": [],
   "source": [
    "train_label=train_data_raw['label'].values\n",
    "train_img=train_data_raw.drop('label', axis=1)\n"
   ]
  },
  {
   "cell_type": "code",
   "execution_count": 5,
   "metadata": {},
   "outputs": [
    {
     "name": "stdout",
     "output_type": "stream",
     "text": [
      "no missing data\n"
     ]
    }
   ],
   "source": [
    "null_bool=train_img.isnull().to_numpy()\n",
    "a=np.ones((784,1))\n",
    "nullz=np.sum(np.dot(null_bool,a))\n",
    "if nullz:\n",
    "    print('there is missing data')\n",
    "else:\n",
    "    print('no missing data')"
   ]
  },
  {
   "cell_type": "code",
   "execution_count": 6,
   "metadata": {},
   "outputs": [],
   "source": [
    "train_img=train_img.values/255\n",
    "test_data=test_data_raw.values/255"
   ]
  },
  {
   "cell_type": "code",
   "execution_count": 7,
   "metadata": {},
   "outputs": [],
   "source": [
    "train_img, val_img, train_label, val_label = train_test_split(train_img, train_label, test_size=0.2, random_state=42)"
   ]
  },
  {
   "cell_type": "code",
   "execution_count": 8,
   "metadata": {},
   "outputs": [
    {
     "name": "stdout",
     "output_type": "stream",
     "text": [
      "torch.Size([8400, 784]) torch.Size([8400]) torch.Size([33600, 784]) torch.Size([33600])\n"
     ]
    }
   ],
   "source": [
    "train_img, train_label=T.from_numpy(train_img), T.from_numpy(train_label).type(T.LongTensor)\n",
    "val_img, val_label=T.from_numpy(val_img), T.from_numpy(val_label).type(T.LongTensor)\n",
    "test_data=T.from_numpy(test_data)\n",
    "\n",
    "print(val_img.size(), val_label.size(), train_img.shape, train_label.shape)"
   ]
  },
  {
   "cell_type": "code",
   "execution_count": 9,
   "metadata": {},
   "outputs": [
    {
     "data": {
      "text/plain": [
       "<Figure size 432x216 with 0 Axes>"
      ]
     },
     "metadata": {},
     "output_type": "display_data"
    },
    {
     "data": {
      "image/png": "[encoded data removed]",
      "text/plain": [
       "<Figure size 432x288 with 6 Axes>"
      ]
     },
     "metadata": {
      "needs_background": "light"
     },
     "output_type": "display_data"
    }
   ],
   "source": [
    "fig = plt.figure(figsize=(6,3))\n",
    "fig, axs = plt.subplots(2,3)\n",
    "fig.suptitle('Vertically stacked subplots')\n",
    "for i in range(2):\n",
    "    for j in range(3):\n",
    "        axs[i,j].imshow(train_img[(i*3+j)*8,:].reshape(28,28), cmap='gray')\n",
    "plt.show()"
   ]
  },
  {
   "cell_type": "code",
   "execution_count": 10,
   "metadata": {},
   "outputs": [
    {
     "name": "stdout",
     "output_type": "stream",
     "text": [
      "DopeNet(\n",
      "  (fc1): Linear(in_features=784, out_features=128, bias=True)\n",
      "  (dropout): Dropout(p=0.2, inplace=False)\n",
      "  (fc2): Linear(in_features=128, out_features=96, bias=True)\n",
      "  (fc3): Linear(in_features=96, out_features=10, bias=True)\n",
      ")\n"
     ]
    }
   ],
   "source": [
    "###HYPERPARAMETER\n",
    "class DopeNet(nn.Module):\n",
    "    \n",
    "    def __init__(self):\n",
    "        super(DopeNet, self).__init__()\n",
    "        \n",
    "        self.fc1= nn.Linear(784, 128)\n",
    "        self.dropout= nn.Dropout(0.2)\n",
    "        self.fc2= nn.Linear(128,96)\n",
    "        self.fc3= nn.Linear(96, 10)\n",
    "        \n",
    "    \n",
    "    def forward(self, input_x):\n",
    "        x = F.relu(self.fc1(input_x))\n",
    "        x = F.relu(self.dropout(self.fc2(x)))\n",
    "        x = self.fc3(x)\n",
    "        \n",
    "        return x\n",
    "    \n",
    "model=DopeNet().to('cuda')\n",
    "# model=DopeNet()\n",
    "print(model)"
   ]
  },
  {
   "cell_type": "code",
   "execution_count": 11,
   "metadata": {},
   "outputs": [],
   "source": [
    "###HYPERPARAMETER\n",
    "n_epoch=50\n",
    "batch_size=128\n",
    "\n",
    "train = T.utils.data.TensorDataset(train_img, train_label)\n",
    "val = T.utils.data.TensorDataset(val_img, val_label)\n"
   ]
  },
  {
   "cell_type": "code",
   "execution_count": 12,
   "metadata": {},
   "outputs": [],
   "source": [
    "#create dataloader\n",
    "train_loader= T.utils.data.DataLoader(train, batch_size=batch_size, shuffle=False)\n",
    "val_loader= T.utils.data.DataLoader(val, batch_size=batch_size, shuffle=False)\n"
   ]
  },
  {
   "cell_type": "code",
   "execution_count": 17,
   "metadata": {},
   "outputs": [],
   "source": [
    "###HYPERPARAMETER\n",
    "lr=0.01\n",
    "betas=(0.9,0.999)\n",
    "momentum=0.9\n",
    "decay_rate=0.95\n",
    "\n",
    "criterion=nn.CrossEntropyLoss()\n",
    "# optimizer=optim.Adam(model.parameters(), lr=lr, betas=betas, weight_decay=1e-5)\n",
    "optimizer=optim.SGD(model.parameters(), lr=lr, momentum=momentum)\n",
    "lr_sched = optim.lr_scheduler.ExponentialLR(optimizer=optimizer, gamma=decay_rate)\n",
    "# lr_sched = optim.lr_scheduler.StepLR(optimizer, step_size=15, gamma=0.1)"
   ]
  },
  {
   "cell_type": "code",
   "execution_count": 18,
   "metadata": {},
   "outputs": [
    {
     "name": "stdout",
     "output_type": "stream",
     "text": [
      "Epoch 0 - Training Loss: 0.042704857885837555 | Val Loss: 0.2117345631122589 |  Val Accuracy: 95.83333333333333\n",
      "Epoch 1 - Training Loss: 0.03742741048336029 | Val Loss: 0.24628157913684845 |  Val Accuracy: 96.32142857142857\n",
      "Epoch 2 - Training Loss: 0.033160775899887085 | Val Loss: 0.22157692909240723 |  Val Accuracy: 96.22619047619048\n",
      "Epoch 3 - Training Loss: 0.02934584766626358 | Val Loss: 0.21680200099945068 |  Val Accuracy: 96.30952380952381\n",
      "Epoch 4 - Training Loss: 0.028602413833141327 | Val Loss: 0.1899423450231552 |  Val Accuracy: 96.53571428571429\n",
      "Epoch 5 - Training Loss: 0.02614998072385788 | Val Loss: 0.20095005631446838 |  Val Accuracy: 96.52380952380952\n",
      "Epoch 6 - Training Loss: 0.02424027770757675 | Val Loss: 0.19976972043514252 |  Val Accuracy: 96.57142857142857\n",
      "Epoch 7 - Training Loss: 0.02175053209066391 | Val Loss: 0.1809832751750946 |  Val Accuracy: 96.60714285714286\n",
      "Epoch 8 - Training Loss: 0.020383641123771667 | Val Loss: 0.17112082242965698 |  Val Accuracy: 96.71428571428571\n",
      "Epoch 9 - Training Loss: 0.019770145416259766 | Val Loss: 0.17663243412971497 |  Val Accuracy: 96.73809523809524\n",
      "Epoch 10 - Training Loss: 0.017780780792236328 | Val Loss: 0.19927194714546204 |  Val Accuracy: 96.89285714285714\n",
      "Epoch 11 - Training Loss: 0.01637161523103714 | Val Loss: 0.16295292973518372 |  Val Accuracy: 96.8452380952381\n",
      "Epoch 12 - Training Loss: 0.015560120344161987 | Val Loss: 0.16292718052864075 |  Val Accuracy: 96.86904761904762\n",
      "Epoch 13 - Training Loss: 0.014926016330718994 | Val Loss: 0.17930135130882263 |  Val Accuracy: 96.9047619047619\n",
      "Epoch 14 - Training Loss: 0.014024876058101654 | Val Loss: 0.1958509087562561 |  Val Accuracy: 96.98809523809524\n",
      "Epoch 15 - Training Loss: 0.013338685035705566 | Val Loss: 0.1550128161907196 |  Val Accuracy: 96.96428571428571\n",
      "Epoch 16 - Training Loss: 0.012493416666984558 | Val Loss: 0.1676032543182373 |  Val Accuracy: 96.97619047619048\n",
      "Epoch 17 - Training Loss: 0.012406207621097565 | Val Loss: 0.18294432759284973 |  Val Accuracy: 97.02380952380952\n",
      "Epoch 18 - Training Loss: 0.012565374374389648 | Val Loss: 0.1878652721643448 |  Val Accuracy: 97.07142857142857\n",
      "Epoch 19 - Training Loss: 0.012022726237773895 | Val Loss: 0.1553354561328888 |  Val Accuracy: 97.03571428571429\n",
      "Epoch 20 - Training Loss: 0.011778950691223145 | Val Loss: 0.16987524926662445 |  Val Accuracy: 97.02380952380952\n",
      "Epoch 21 - Training Loss: 0.011455319821834564 | Val Loss: 0.18015705049037933 |  Val Accuracy: 97.0952380952381\n",
      "Epoch 22 - Training Loss: 0.01098109781742096 | Val Loss: 0.18305239081382751 |  Val Accuracy: 97.03571428571429\n",
      "Epoch 23 - Training Loss: 0.010584384202957153 | Val Loss: 0.1591464877128601 |  Val Accuracy: 97.10714285714286\n",
      "Epoch 24 - Training Loss: 0.00989435613155365 | Val Loss: 0.1713077574968338 |  Val Accuracy: 97.08333333333333\n",
      "Epoch 25 - Training Loss: 0.009092099964618683 | Val Loss: 0.17709609866142273 |  Val Accuracy: 97.17857142857143\n",
      "Epoch 26 - Training Loss: 0.009023956954479218 | Val Loss: 0.1611475646495819 |  Val Accuracy: 97.10714285714286\n",
      "Epoch 27 - Training Loss: 0.008994102478027344 | Val Loss: 0.15810725092887878 |  Val Accuracy: 97.10714285714286\n",
      "Epoch 28 - Training Loss: 0.008820153772830963 | Val Loss: 0.1702355444431305 |  Val Accuracy: 97.14285714285714\n",
      "Epoch 29 - Training Loss: 0.008581526577472687 | Val Loss: 0.17475047707557678 |  Val Accuracy: 97.13095238095238\n",
      "Epoch 30 - Training Loss: 0.00828106701374054 | Val Loss: 0.15788337588310242 |  Val Accuracy: 97.10714285714286\n",
      "Epoch 31 - Training Loss: 0.007967203855514526 | Val Loss: 0.16021530330181122 |  Val Accuracy: 97.11904761904762\n",
      "Epoch 32 - Training Loss: 0.007971987128257751 | Val Loss: 0.1698322892189026 |  Val Accuracy: 97.17857142857143\n",
      "Epoch 33 - Training Loss: 0.007704809308052063 | Val Loss: 0.17465698719024658 |  Val Accuracy: 97.1547619047619\n",
      "Epoch 34 - Training Loss: 0.007534585893154144 | Val Loss: 0.15878471732139587 |  Val Accuracy: 97.1547619047619\n",
      "Epoch 35 - Training Loss: 0.006994009017944336 | Val Loss: 0.16632413864135742 |  Val Accuracy: 97.16666666666667\n",
      "Epoch 36 - Training Loss: 0.007109224796295166 | Val Loss: 0.17212161421775818 |  Val Accuracy: 97.17857142857143\n",
      "Epoch 37 - Training Loss: 0.006840035319328308 | Val Loss: 0.17577683925628662 |  Val Accuracy: 97.10714285714286\n",
      "Epoch 38 - Training Loss: 0.006767779588699341 | Val Loss: 0.16148316860198975 |  Val Accuracy: 97.14285714285714\n",
      "Epoch 39 - Training Loss: 0.006866768002510071 | Val Loss: 0.16485577821731567 |  Val Accuracy: 97.22619047619048\n",
      "Epoch 40 - Training Loss: 0.00686299055814743 | Val Loss: 0.17235760390758514 |  Val Accuracy: 97.17857142857143\n",
      "Epoch 41 - Training Loss: 0.00670943409204483 | Val Loss: 0.17390620708465576 |  Val Accuracy: 97.08333333333333\n",
      "Epoch 42 - Training Loss: 0.006513535976409912 | Val Loss: 0.161891371011734 |  Val Accuracy: 97.17857142857143\n",
      "Epoch 43 - Training Loss: 0.006280846893787384 | Val Loss: 0.16848449409008026 |  Val Accuracy: 97.17857142857143\n",
      "Epoch 44 - Training Loss: 0.0062569379806518555 | Val Loss: 0.17095984518527985 |  Val Accuracy: 97.13095238095238\n",
      "Epoch 45 - Training Loss: 0.006161190569400787 | Val Loss: 0.17259471118450165 |  Val Accuracy: 97.11904761904762\n",
      "Epoch 46 - Training Loss: 0.005979128181934357 | Val Loss: 0.16394273936748505 |  Val Accuracy: 97.20238095238095\n",
      "Epoch 47 - Training Loss: 0.005931288003921509 | Val Loss: 0.1707785725593567 |  Val Accuracy: 97.1547619047619\n",
      "Epoch 48 - Training Loss: 0.005803123116493225 | Val Loss: 0.17305615544319153 |  Val Accuracy: 97.14285714285714\n",
      "Epoch 49 - Training Loss: 0.005686797201633453 | Val Loss: 0.16423968970775604 |  Val Accuracy: 97.19047619047619\n"
     ]
    }
   ],
   "source": [
    "#train loop\n",
    "count=0\n",
    "loss_list=[]\n",
    "val_list=[]\n",
    "iteration=[]\n",
    "\n",
    "\n",
    "for i in range(n_epoch):\n",
    "    model.train()\n",
    "    for j, (img, label) in enumerate(train_loader):\n",
    "        img = img.to('cuda')\n",
    "        label = label.to('cuda')\n",
    "        optimizer.zero_grad()\n",
    "        output=model(img)\n",
    "        loss=criterion(output,label)\n",
    "        loss.backward()\n",
    "        optimizer.step()\n",
    "        \n",
    "        count+=1\n",
    "        \n",
    "        if count%50 == 0:\n",
    "            correct=0\n",
    "            total=0\n",
    "            model.eval()\n",
    "            for images, labels in val_loader:\n",
    "                with T.no_grad():\n",
    "                    images=images.to('cuda')\n",
    "                    labels=labels.to('cuda')\n",
    "                    outputs=model(images)\n",
    "                    val_loss=criterion(outputs,labels)\n",
    "                    pred=T.max(outputs.data, 1)[1]\n",
    "                    total+=len(labels)\n",
    "#                 print(len(images), len(labels), len(pred))\n",
    "                    correct += (pred == labels).sum()\n",
    "            accuracy = 100.0 * float(correct) / float(total)\n",
    "            loss_list.append(loss.item())\n",
    "            val_list.append(val_loss.item())\n",
    "            iteration.append(count)\n",
    "    lr_sched.step()\n",
    "            \n",
    "\n",
    "    print('Epoch {} - Training Loss: {} | Val Loss: {} |  Val Accuracy: {}'.format(i, loss.item(), val_loss.item(), float(accuracy)))"
   ]
  },
  {
   "cell_type": "code",
   "execution_count": 19,
   "metadata": {},
   "outputs": [
    {
     "name": "stderr",
     "output_type": "stream",
     "text": [
      "C:\\ProgramData\\Anaconda3\\lib\\site-packages\\ipykernel_launcher.py:3: UserWarning: To copy construct from a tensor, it is recommended to use sourceTensor.clone().detach() or sourceTensor.clone().detach().requires_grad_(True), rather than torch.tensor(sourceTensor).\n",
      "  This is separate from the ipykernel package so we can avoid doing imports until\n"
     ]
    },
    {
     "name": "stdout",
     "output_type": "stream",
     "text": [
      "Predicted Digit = 7\n"
     ]
    },
    {
     "data": {
      "image/png": "[encoded data removed]",
      "text/plain": [
       "<Figure size 432x288 with 1 Axes>"
      ]
     },
     "metadata": {
      "needs_background": "light"
     },
     "output_type": "display_data"
    }
   ],
   "source": [
    "data=test_data[5]\n",
    "plt.imshow(data.reshape(28,28), cmap='gray')\n",
    "test_img=T.tensor(data).view(1,784)\n",
    "\n",
    "with T.no_grad():\n",
    "    test_img=test_img.to('cuda')\n",
    "    logps = model(test_img)\n",
    "\n",
    "    \n",
    "ps = T.exp(logps)\n",
    "ps=ps.cpu()\n",
    "probab = list(ps.numpy()[0])\n",
    "print(\"Predicted Digit =\", probab.index(max(probab)))"
   ]
  },
  {
   "cell_type": "code",
   "execution_count": 20,
   "metadata": {},
   "outputs": [
    {
     "data": {
      "image/png": "[encoded data removed]",
      "text/plain": [
       "<Figure size 576x432 with 1 Axes>"
      ]
     },
     "metadata": {
      "needs_background": "light"
     },
     "output_type": "display_data"
    }
   ],
   "source": [
    "plt.figure(figsize=(8,6))\n",
    "plt.plot(iteration,loss_list)\n",
    "plt.plot(iteration,val_list)\n",
    "plt.xlabel(\"Number of iteration\")\n",
    "plt.ylabel(\"Loss\")\n",
    "plt.title(\"Logistic Regression: Loss vs Number of iteration\")\n",
    "plt.show()"
   ]
  },
  {
   "cell_type": "code",
   "execution_count": 21,
   "metadata": {},
   "outputs": [],
   "source": [
    "T.save(model.state_dict(), 'mnist_inf_mj.pt')"
   ]
  },
  {
   "cell_type": "code",
   "execution_count": 22,
   "metadata": {},
   "outputs": [
    {
     "name": "stderr",
     "output_type": "stream",
     "text": [
      "C:\\ProgramData\\Anaconda3\\lib\\site-packages\\torch\\serialization.py:256: UserWarning: Couldn't retrieve source code for container of type DopeNet. It won't be checked for correctness upon loading.\n",
      "  \"type \" + obj.__name__ + \". It won't be checked \"\n"
     ]
    }
   ],
   "source": [
    "T.save(model, 'mnist_mj_mod.pt')"
   ]
  },
  {
   "cell_type": "code",
   "execution_count": 23,
   "metadata": {},
   "outputs": [],
   "source": [
    "test = T.utils.data.TensorDataset(test_data)\n",
    "test_loader= T.utils.data.DataLoader(test, batch_size=1, shuffle=False)"
   ]
  },
  {
   "cell_type": "code",
   "execution_count": 24,
   "metadata": {},
   "outputs": [],
   "source": [
    "predicts=[]\n",
    "model.eval()\n",
    "for [images] in test_loader:\n",
    "    with T.no_grad():\n",
    "        images=images.to('cuda')\n",
    "        outputs=model(images)\n",
    "        pred=T.max(outputs.data, 1)[1]\n",
    "        predicts.append(pred.item())\n",
    "        "
   ]
  },
  {
   "cell_type": "code",
   "execution_count": 25,
   "metadata": {},
   "outputs": [
    {
     "name": "stdout",
     "output_type": "stream",
     "text": [
      "28000\n"
     ]
    }
   ],
   "source": [
    "print(len(predicts))\n"
   ]
  },
  {
   "cell_type": "code",
   "execution_count": 26,
   "metadata": {},
   "outputs": [
    {
     "name": "stdout",
     "output_type": "stream",
     "text": [
      "4\n"
     ]
    }
   ],
   "source": [
    "id = range(1,28001)\n",
    "print(id[3])"
   ]
  },
  {
   "cell_type": "code",
   "execution_count": 27,
   "metadata": {},
   "outputs": [],
   "source": [
    "df = pd.DataFrame(list(zip(id,predicts)), columns=['ImageId', 'Label'])"
   ]
  },
  {
   "cell_type": "code",
   "execution_count": 28,
   "metadata": {},
   "outputs": [],
   "source": [
    "df.to_csv('mj_mnist.csv')"
   ]
  },
  {
   "cell_type": "code",
   "execution_count": null,
   "metadata": {},
   "outputs": [],
   "source": []
  }
 ],
 "metadata": {
  "kernelspec": {
   "display_name": "Python 3",
   "language": "python",
   "name": "python3"
  },
  "language_info": {
   "codemirror_mode": {
    "name": "ipython",
    "version": 3
   },
   "file_extension": ".py",
   "mimetype": "text/x-python",
   "name": "python",
   "nbconvert_exporter": "python",
   "pygments_lexer": "ipython3",
   "version": "3.7.3"
  }
 },
 "nbformat": 4,
 "nbformat_minor": 4
}
