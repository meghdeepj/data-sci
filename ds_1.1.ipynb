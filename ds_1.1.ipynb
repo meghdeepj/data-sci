{
 "cells": [
  {
   "cell_type": "code",
   "execution_count": 1,
   "metadata": {},
   "outputs": [
    {
     "name": "stdout",
     "output_type": "stream",
     "text": [
      "{{}{}[]][]]\n",
      "8\n"
     ]
    }
   ],
   "source": [
    "from collections import namedtuple\n",
    "\n",
    "Bracket = namedtuple(\"Bracket\", [\"char\", \"position\"])\n",
    "\n",
    "\n",
    "def are_matching(left, right):\n",
    "    return (left + right) in [\"()\", \"[]\", \"{}\"]\n",
    "\n",
    "\n",
    "def find_mismatch(text):\n",
    "    opening_brackets_stack = []\n",
    "    open_stack = []\n",
    "    close_stack = []\n",
    "    for i, next in enumerate(text):\n",
    "        if next in \"([{\":\n",
    "            opening_brackets_stack.append(next)\n",
    "            open_stack.append(i)\n",
    "            \n",
    "        if next in \")]}\":\n",
    "            close_stack.append(i)\n",
    "            #print(len(opening_brackets_stack))\n",
    "            if opening_brackets_stack:\n",
    "                match = are_matching(opening_brackets_stack[-1],next)\n",
    "                if match:\n",
    "                    opening_brackets_stack.pop()\n",
    "                    open_stack.pop()\n",
    "                    close_stack.pop()\n",
    "\n",
    "               \n",
    "    if (not opening_brackets_stack) and (not close_stack) and (not open_stack):\n",
    "        return \"Success\"\n",
    "    else:\n",
    "        count1= 1\n",
    "        count2= 1\n",
    "       \tif close_stack:\n",
    "            count1 = min(close_stack)+1\n",
    "            return count1\n",
    "        if open_stack:\n",
    "            count2 = min(open_stack)+1\n",
    "            return count2\n",
    "\n",
    "\n",
    "def main():\n",
    "    text = input()\n",
    "    mismatch = find_mismatch(text)\n",
    "    print(mismatch)\n",
    "\n",
    "\n",
    "if __name__ == \"__main__\":\n",
    "    main()"
   ]
  }
 ],
 "metadata": {
  "kernelspec": {
   "display_name": "Python 3",
   "language": "python",
   "name": "python3"
  },
  "language_info": {
   "codemirror_mode": {
    "name": "ipython",
    "version": 3
   },
   "file_extension": ".py",
   "mimetype": "text/x-python",
   "name": "python",
   "nbconvert_exporter": "python",
   "pygments_lexer": "ipython3",
   "version": "3.7.3"
  }
 },
 "nbformat": 4,
 "nbformat_minor": 2
}
