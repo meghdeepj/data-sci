{
 "cells": [
  {
   "cell_type": "markdown",
   "metadata": {},
   "source": [
    "### MNIST Digit Recognition"
   ]
  },
  {
   "cell_type": "code",
   "execution_count": 120,
   "metadata": {},
   "outputs": [],
   "source": [
    "import numpy as np\n",
    "import matplotlib.pyplot as plt\n",
    "import seaborn as sns\n",
    "sns.set()\n",
    "from mpl_toolkits.mplot3d import Axes3D\n",
    "import pandas as pd\n",
    "import tensorflow as tf\n",
    "import tensorflow.keras as K\n",
    "import tensorflow_datasets as tfds\n",
    "import time"
   ]
  },
  {
   "cell_type": "markdown",
   "metadata": {},
   "source": [
    "#### Data Pre-processing"
   ]
  },
  {
   "cell_type": "code",
   "execution_count": 121,
   "metadata": {},
   "outputs": [],
   "source": [
    "mnist_data, info=tfds.load(name='mnist', as_supervised=True, with_info=True)\n",
    "mnist_train, mnist_test = mnist_data['train'], mnist_data['test']"
   ]
  },
  {
   "cell_type": "code",
   "execution_count": 122,
   "metadata": {},
   "outputs": [],
   "source": [
    "num_validation=tf.cast(0.1*info.splits['train'].num_examples, tf.int64)\n",
    "num_test=tf.cast(info.splits['test'].num_examples, tf.int64)\n",
    "num_train=tf.cast(info.splits['train'].num_examples, tf.int64)"
   ]
  },
  {
   "cell_type": "code",
   "execution_count": 123,
   "metadata": {},
   "outputs": [],
   "source": [
    "def scale(image,label):\n",
    "    image=tf.cast(image, tf.float32)\n",
    "    image/=255\n",
    "    return image, label\n",
    "scaled_train_val= mnist_train.map(scale)\n",
    "test_data = mnist_test.map(scale)"
   ]
  },
  {
   "cell_type": "code",
   "execution_count": 124,
   "metadata": {},
   "outputs": [],
   "source": [
    "BUFF_SIZE=10000\n",
    "shuffled_train_val = scaled_train_val.shuffle(BUFF_SIZE)\n",
    "mnist_val = shuffled_train_val.take(num_validation)\n",
    "mnist_train= shuffled_train_val.skip(num_validation)"
   ]
  },
  {
   "cell_type": "code",
   "execution_count": 125,
   "metadata": {},
   "outputs": [],
   "source": [
    "# Hyperparameters\n",
    "batch_size=64\n",
    "\n",
    "mnist_train = mnist_train.batch(batch_size)\n",
    "mnist_val = mnist_val.batch(num_validation)\n",
    "mnist_test=mnist_test.batch(num_test)\n",
    "\n",
    "#To access the data in batches\n",
    "val_in, val_target= next(iter(mnist_val))"
   ]
  },
  {
   "cell_type": "markdown",
   "metadata": {},
   "source": [
    "#### Deep Learning Model prep"
   ]
  },
  {
   "cell_type": "code",
   "execution_count": 126,
   "metadata": {},
   "outputs": [],
   "source": [
    "# (x_train, y_train), (x_test, y_test) = K.datasets.mnist.load_data(\n",
    "#     path='mnist.npz'\n",
    "# )"
   ]
  },
  {
   "cell_type": "code",
   "execution_count": 127,
   "metadata": {},
   "outputs": [],
   "source": [
    "input_size=784\n",
    "output_size=10\n",
    "hidden_layer_size=64\n",
    "\n",
    "model = K.Sequential([\n",
    "                K.layers.Flatten(input_shape=(28,28,1)),\n",
    "                K.layers.Dense(hidden_layer_size, activation='relu'),\n",
    "                K.layers.Dense(hidden_layer_size+10, activation='relu'),\n",
    "                K.layers.Dense(output_size, activation='softmax')    \n",
    "])"
   ]
  },
  {
   "cell_type": "code",
   "execution_count": 128,
   "metadata": {},
   "outputs": [],
   "source": [
    "optimizer=K.optimizers.Adam(\n",
    "    learning_rate=0.001, beta_1=0.9, beta_2=0.999, epsilon=1e-07, amsgrad=False,\n",
    "    name='Adam')\n",
    "model.compile(optimizer=optimizer, loss='sparse_categorical_crossentropy', metrics=['accuracy'])"
   ]
  },
  {
   "cell_type": "code",
   "execution_count": 129,
   "metadata": {},
   "outputs": [
    {
     "name": "stdout",
     "output_type": "stream",
     "text": [
      "Epoch 1/9\n",
      "844/844 - 12s - loss: 0.3283 - accuracy: 0.9071 - val_loss: 0.0000e+00 - val_accuracy: 0.0000e+00\n",
      "Epoch 2/9\n",
      "844/844 - 11s - loss: 0.1470 - accuracy: 0.9566 - val_loss: 0.1275 - val_accuracy: 0.9615\n",
      "Epoch 3/9\n",
      "844/844 - 12s - loss: 0.1085 - accuracy: 0.9674 - val_loss: 0.1024 - val_accuracy: 0.9693\n",
      "Epoch 4/9\n",
      "844/844 - 11s - loss: 0.0849 - accuracy: 0.9742 - val_loss: 0.0878 - val_accuracy: 0.9743\n",
      "Epoch 5/9\n",
      "844/844 - 12s - loss: 0.0709 - accuracy: 0.9782 - val_loss: 0.0818 - val_accuracy: 0.9748\n",
      "Epoch 6/9\n",
      "844/844 - 11s - loss: 0.0605 - accuracy: 0.9810 - val_loss: 0.0659 - val_accuracy: 0.9792\n",
      "Epoch 7/9\n",
      "844/844 - 10s - loss: 0.0522 - accuracy: 0.9839 - val_loss: 0.0626 - val_accuracy: 0.9792\n",
      "Epoch 8/9\n",
      "844/844 - 11s - loss: 0.0448 - accuracy: 0.9861 - val_loss: 0.0640 - val_accuracy: 0.9818\n",
      "Epoch 9/9\n",
      "844/844 - 11s - loss: 0.0389 - accuracy: 0.9882 - val_loss: 0.0531 - val_accuracy: 0.9835\n"
     ]
    },
    {
     "data": {
      "text/plain": [
       "<tensorflow.python.keras.callbacks.History at 0x23804ad80b8>"
      ]
     },
     "execution_count": 129,
     "metadata": {},
     "output_type": "execute_result"
    }
   ],
   "source": [
    "NUM_EPOCHS=9\n",
    "model.fit(mnist_train, epochs=NUM_EPOCHS, validation_data=(val_in, val_target), validation_steps=64, verbose=2)"
   ]
  },
  {
   "cell_type": "code",
   "execution_count": 130,
   "metadata": {},
   "outputs": [
    {
     "name": "stdout",
     "output_type": "stream",
     "text": [
      "1/1 [==============================] 18.6062 - accuracy: 0.973 - 1s 1s/step - loss: 18.6062 - accuracy: 0.9730\n"
     ]
    }
   ],
   "source": [
    "test_loss, test_acc= model.evaluate(mnist_test)"
   ]
  },
  {
   "cell_type": "code",
   "execution_count": 131,
   "metadata": {},
   "outputs": [
    {
     "name": "stdout",
     "output_type": "stream",
     "text": [
      "18.606233596801758 97.29999899864197\n"
     ]
    }
   ],
   "source": [
    "print(test_loss, test_acc*100.)"
   ]
  },
  {
   "cell_type": "code",
   "execution_count": null,
   "metadata": {},
   "outputs": [],
   "source": []
  }
 ],
 "metadata": {
  "kernelspec": {
   "display_name": "Python 3",
   "language": "python",
   "name": "python3"
  },
  "language_info": {
   "codemirror_mode": {
    "name": "ipython",
    "version": 3
   },
   "file_extension": ".py",
   "mimetype": "text/x-python",
   "name": "python",
   "nbconvert_exporter": "python",
   "pygments_lexer": "ipython3",
   "version": "3.7.3"
  }
 },
 "nbformat": 4,
 "nbformat_minor": 2
}
